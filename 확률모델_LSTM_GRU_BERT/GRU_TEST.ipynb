{
  "nbformat": 4,
  "nbformat_minor": 0,
  "metadata": {
    "colab": {
      "provenance": [],
      "gpuType": "T4"
    },
    "kernelspec": {
      "name": "python3",
      "display_name": "Python 3"
    },
    "language_info": {
      "name": "python"
    },
    "accelerator": "GPU"
  },
  "cells": [
    {
      "cell_type": "code",
      "source": [
        "from google.colab import files\n",
        "uploaded = files.upload()"
      ],
      "metadata": {
        "colab": {
          "base_uri": "https://localhost:8080/",
          "height": 80
        },
        "id": "DC8h3Y8SQatv",
        "outputId": "db6ab70c-ef7c-4a78-f655-cdde31c4fd20"
      },
      "execution_count": 1,
      "outputs": [
        {
          "output_type": "display_data",
          "data": {
            "text/plain": [
              "<IPython.core.display.HTML object>"
            ],
            "text/html": [
              "\n",
              "     <input type=\"file\" id=\"files-516c5250-c124-43e9-bf44-5c6fa36710c1\" name=\"files[]\" multiple disabled\n",
              "        style=\"border:none\" />\n",
              "     <output id=\"result-516c5250-c124-43e9-bf44-5c6fa36710c1\">\n",
              "      Upload widget is only available when the cell has been executed in the\n",
              "      current browser session. Please rerun this cell to enable.\n",
              "      </output>\n",
              "      <script>// Copyright 2017 Google LLC\n",
              "//\n",
              "// Licensed under the Apache License, Version 2.0 (the \"License\");\n",
              "// you may not use this file except in compliance with the License.\n",
              "// You may obtain a copy of the License at\n",
              "//\n",
              "//      http://www.apache.org/licenses/LICENSE-2.0\n",
              "//\n",
              "// Unless required by applicable law or agreed to in writing, software\n",
              "// distributed under the License is distributed on an \"AS IS\" BASIS,\n",
              "// WITHOUT WARRANTIES OR CONDITIONS OF ANY KIND, either express or implied.\n",
              "// See the License for the specific language governing permissions and\n",
              "// limitations under the License.\n",
              "\n",
              "/**\n",
              " * @fileoverview Helpers for google.colab Python module.\n",
              " */\n",
              "(function(scope) {\n",
              "function span(text, styleAttributes = {}) {\n",
              "  const element = document.createElement('span');\n",
              "  element.textContent = text;\n",
              "  for (const key of Object.keys(styleAttributes)) {\n",
              "    element.style[key] = styleAttributes[key];\n",
              "  }\n",
              "  return element;\n",
              "}\n",
              "\n",
              "// Max number of bytes which will be uploaded at a time.\n",
              "const MAX_PAYLOAD_SIZE = 100 * 1024;\n",
              "\n",
              "function _uploadFiles(inputId, outputId) {\n",
              "  const steps = uploadFilesStep(inputId, outputId);\n",
              "  const outputElement = document.getElementById(outputId);\n",
              "  // Cache steps on the outputElement to make it available for the next call\n",
              "  // to uploadFilesContinue from Python.\n",
              "  outputElement.steps = steps;\n",
              "\n",
              "  return _uploadFilesContinue(outputId);\n",
              "}\n",
              "\n",
              "// This is roughly an async generator (not supported in the browser yet),\n",
              "// where there are multiple asynchronous steps and the Python side is going\n",
              "// to poll for completion of each step.\n",
              "// This uses a Promise to block the python side on completion of each step,\n",
              "// then passes the result of the previous step as the input to the next step.\n",
              "function _uploadFilesContinue(outputId) {\n",
              "  const outputElement = document.getElementById(outputId);\n",
              "  const steps = outputElement.steps;\n",
              "\n",
              "  const next = steps.next(outputElement.lastPromiseValue);\n",
              "  return Promise.resolve(next.value.promise).then((value) => {\n",
              "    // Cache the last promise value to make it available to the next\n",
              "    // step of the generator.\n",
              "    outputElement.lastPromiseValue = value;\n",
              "    return next.value.response;\n",
              "  });\n",
              "}\n",
              "\n",
              "/**\n",
              " * Generator function which is called between each async step of the upload\n",
              " * process.\n",
              " * @param {string} inputId Element ID of the input file picker element.\n",
              " * @param {string} outputId Element ID of the output display.\n",
              " * @return {!Iterable<!Object>} Iterable of next steps.\n",
              " */\n",
              "function* uploadFilesStep(inputId, outputId) {\n",
              "  const inputElement = document.getElementById(inputId);\n",
              "  inputElement.disabled = false;\n",
              "\n",
              "  const outputElement = document.getElementById(outputId);\n",
              "  outputElement.innerHTML = '';\n",
              "\n",
              "  const pickedPromise = new Promise((resolve) => {\n",
              "    inputElement.addEventListener('change', (e) => {\n",
              "      resolve(e.target.files);\n",
              "    });\n",
              "  });\n",
              "\n",
              "  const cancel = document.createElement('button');\n",
              "  inputElement.parentElement.appendChild(cancel);\n",
              "  cancel.textContent = 'Cancel upload';\n",
              "  const cancelPromise = new Promise((resolve) => {\n",
              "    cancel.onclick = () => {\n",
              "      resolve(null);\n",
              "    };\n",
              "  });\n",
              "\n",
              "  // Wait for the user to pick the files.\n",
              "  const files = yield {\n",
              "    promise: Promise.race([pickedPromise, cancelPromise]),\n",
              "    response: {\n",
              "      action: 'starting',\n",
              "    }\n",
              "  };\n",
              "\n",
              "  cancel.remove();\n",
              "\n",
              "  // Disable the input element since further picks are not allowed.\n",
              "  inputElement.disabled = true;\n",
              "\n",
              "  if (!files) {\n",
              "    return {\n",
              "      response: {\n",
              "        action: 'complete',\n",
              "      }\n",
              "    };\n",
              "  }\n",
              "\n",
              "  for (const file of files) {\n",
              "    const li = document.createElement('li');\n",
              "    li.append(span(file.name, {fontWeight: 'bold'}));\n",
              "    li.append(span(\n",
              "        `(${file.type || 'n/a'}) - ${file.size} bytes, ` +\n",
              "        `last modified: ${\n",
              "            file.lastModifiedDate ? file.lastModifiedDate.toLocaleDateString() :\n",
              "                                    'n/a'} - `));\n",
              "    const percent = span('0% done');\n",
              "    li.appendChild(percent);\n",
              "\n",
              "    outputElement.appendChild(li);\n",
              "\n",
              "    const fileDataPromise = new Promise((resolve) => {\n",
              "      const reader = new FileReader();\n",
              "      reader.onload = (e) => {\n",
              "        resolve(e.target.result);\n",
              "      };\n",
              "      reader.readAsArrayBuffer(file);\n",
              "    });\n",
              "    // Wait for the data to be ready.\n",
              "    let fileData = yield {\n",
              "      promise: fileDataPromise,\n",
              "      response: {\n",
              "        action: 'continue',\n",
              "      }\n",
              "    };\n",
              "\n",
              "    // Use a chunked sending to avoid message size limits. See b/62115660.\n",
              "    let position = 0;\n",
              "    do {\n",
              "      const length = Math.min(fileData.byteLength - position, MAX_PAYLOAD_SIZE);\n",
              "      const chunk = new Uint8Array(fileData, position, length);\n",
              "      position += length;\n",
              "\n",
              "      const base64 = btoa(String.fromCharCode.apply(null, chunk));\n",
              "      yield {\n",
              "        response: {\n",
              "          action: 'append',\n",
              "          file: file.name,\n",
              "          data: base64,\n",
              "        },\n",
              "      };\n",
              "\n",
              "      let percentDone = fileData.byteLength === 0 ?\n",
              "          100 :\n",
              "          Math.round((position / fileData.byteLength) * 100);\n",
              "      percent.textContent = `${percentDone}% done`;\n",
              "\n",
              "    } while (position < fileData.byteLength);\n",
              "  }\n",
              "\n",
              "  // All done.\n",
              "  yield {\n",
              "    response: {\n",
              "      action: 'complete',\n",
              "    }\n",
              "  };\n",
              "}\n",
              "\n",
              "scope.google = scope.google || {};\n",
              "scope.google.colab = scope.google.colab || {};\n",
              "scope.google.colab._files = {\n",
              "  _uploadFiles,\n",
              "  _uploadFilesContinue,\n",
              "};\n",
              "})(self);\n",
              "</script> "
            ]
          },
          "metadata": {}
        },
        {
          "output_type": "stream",
          "name": "stdout",
          "text": [
            "Saving dataset_final.csv to dataset_final.csv\n"
          ]
        }
      ]
    },
    {
      "cell_type": "code",
      "source": [
        "import pandas as pd\n",
        "\n",
        "df = pd.read_csv(\"dataset_final.csv\")  # 업로드한 실제 파일명\n",
        "df.head()"
      ],
      "metadata": {
        "colab": {
          "base_uri": "https://localhost:8080/",
          "height": 207
        },
        "id": "VZ9o8UUvSe5Q",
        "outputId": "9b916515-40bc-4c1a-8292-52d0d1ce5b96"
      },
      "execution_count": 3,
      "outputs": [
        {
          "output_type": "execute_result",
          "data": {
            "text/plain": [
              "                                                text  label\n",
              "0  수사관님이 바뀌셨다고 들었는데 맞나요?  창원지검 형사1부 이정훈 수사관입니다  기...      0\n",
              "1  전화 받았는데 일정 다시 확인하려고요  대전지검 강력부 박민수 수사관입니다  출석 ...      0\n",
              "2  가족이 대신 출석 가능한가요?  춘천지검 조사과 이나래 수사관입니다  해당 건은 본...      0\n",
              "3  검찰청에서 전화가 왔어요  인천지검 범죄수익환수부 정유라 수사관입니다  무슨 건으로...      0\n",
              "4  대면 출석이 어려운데 전화 조사도 가능할까요?  춘천지검 형사1부 박시은 수사관입니...      0"
            ],
            "text/html": [
              "\n",
              "  <div id=\"df-60a75230-a726-4ded-bed8-2fbc6b6420f0\" class=\"colab-df-container\">\n",
              "    <div>\n",
              "<style scoped>\n",
              "    .dataframe tbody tr th:only-of-type {\n",
              "        vertical-align: middle;\n",
              "    }\n",
              "\n",
              "    .dataframe tbody tr th {\n",
              "        vertical-align: top;\n",
              "    }\n",
              "\n",
              "    .dataframe thead th {\n",
              "        text-align: right;\n",
              "    }\n",
              "</style>\n",
              "<table border=\"1\" class=\"dataframe\">\n",
              "  <thead>\n",
              "    <tr style=\"text-align: right;\">\n",
              "      <th></th>\n",
              "      <th>text</th>\n",
              "      <th>label</th>\n",
              "    </tr>\n",
              "  </thead>\n",
              "  <tbody>\n",
              "    <tr>\n",
              "      <th>0</th>\n",
              "      <td>수사관님이 바뀌셨다고 들었는데 맞나요?  창원지검 형사1부 이정훈 수사관입니다  기...</td>\n",
              "      <td>0</td>\n",
              "    </tr>\n",
              "    <tr>\n",
              "      <th>1</th>\n",
              "      <td>전화 받았는데 일정 다시 확인하려고요  대전지검 강력부 박민수 수사관입니다  출석 ...</td>\n",
              "      <td>0</td>\n",
              "    </tr>\n",
              "    <tr>\n",
              "      <th>2</th>\n",
              "      <td>가족이 대신 출석 가능한가요?  춘천지검 조사과 이나래 수사관입니다  해당 건은 본...</td>\n",
              "      <td>0</td>\n",
              "    </tr>\n",
              "    <tr>\n",
              "      <th>3</th>\n",
              "      <td>검찰청에서 전화가 왔어요  인천지검 범죄수익환수부 정유라 수사관입니다  무슨 건으로...</td>\n",
              "      <td>0</td>\n",
              "    </tr>\n",
              "    <tr>\n",
              "      <th>4</th>\n",
              "      <td>대면 출석이 어려운데 전화 조사도 가능할까요?  춘천지검 형사1부 박시은 수사관입니...</td>\n",
              "      <td>0</td>\n",
              "    </tr>\n",
              "  </tbody>\n",
              "</table>\n",
              "</div>\n",
              "    <div class=\"colab-df-buttons\">\n",
              "\n",
              "  <div class=\"colab-df-container\">\n",
              "    <button class=\"colab-df-convert\" onclick=\"convertToInteractive('df-60a75230-a726-4ded-bed8-2fbc6b6420f0')\"\n",
              "            title=\"Convert this dataframe to an interactive table.\"\n",
              "            style=\"display:none;\">\n",
              "\n",
              "  <svg xmlns=\"http://www.w3.org/2000/svg\" height=\"24px\" viewBox=\"0 -960 960 960\">\n",
              "    <path d=\"M120-120v-720h720v720H120Zm60-500h600v-160H180v160Zm220 220h160v-160H400v160Zm0 220h160v-160H400v160ZM180-400h160v-160H180v160Zm440 0h160v-160H620v160ZM180-180h160v-160H180v160Zm440 0h160v-160H620v160Z\"/>\n",
              "  </svg>\n",
              "    </button>\n",
              "\n",
              "  <style>\n",
              "    .colab-df-container {\n",
              "      display:flex;\n",
              "      gap: 12px;\n",
              "    }\n",
              "\n",
              "    .colab-df-convert {\n",
              "      background-color: #E8F0FE;\n",
              "      border: none;\n",
              "      border-radius: 50%;\n",
              "      cursor: pointer;\n",
              "      display: none;\n",
              "      fill: #1967D2;\n",
              "      height: 32px;\n",
              "      padding: 0 0 0 0;\n",
              "      width: 32px;\n",
              "    }\n",
              "\n",
              "    .colab-df-convert:hover {\n",
              "      background-color: #E2EBFA;\n",
              "      box-shadow: 0px 1px 2px rgba(60, 64, 67, 0.3), 0px 1px 3px 1px rgba(60, 64, 67, 0.15);\n",
              "      fill: #174EA6;\n",
              "    }\n",
              "\n",
              "    .colab-df-buttons div {\n",
              "      margin-bottom: 4px;\n",
              "    }\n",
              "\n",
              "    [theme=dark] .colab-df-convert {\n",
              "      background-color: #3B4455;\n",
              "      fill: #D2E3FC;\n",
              "    }\n",
              "\n",
              "    [theme=dark] .colab-df-convert:hover {\n",
              "      background-color: #434B5C;\n",
              "      box-shadow: 0px 1px 3px 1px rgba(0, 0, 0, 0.15);\n",
              "      filter: drop-shadow(0px 1px 2px rgba(0, 0, 0, 0.3));\n",
              "      fill: #FFFFFF;\n",
              "    }\n",
              "  </style>\n",
              "\n",
              "    <script>\n",
              "      const buttonEl =\n",
              "        document.querySelector('#df-60a75230-a726-4ded-bed8-2fbc6b6420f0 button.colab-df-convert');\n",
              "      buttonEl.style.display =\n",
              "        google.colab.kernel.accessAllowed ? 'block' : 'none';\n",
              "\n",
              "      async function convertToInteractive(key) {\n",
              "        const element = document.querySelector('#df-60a75230-a726-4ded-bed8-2fbc6b6420f0');\n",
              "        const dataTable =\n",
              "          await google.colab.kernel.invokeFunction('convertToInteractive',\n",
              "                                                    [key], {});\n",
              "        if (!dataTable) return;\n",
              "\n",
              "        const docLinkHtml = 'Like what you see? Visit the ' +\n",
              "          '<a target=\"_blank\" href=https://colab.research.google.com/notebooks/data_table.ipynb>data table notebook</a>'\n",
              "          + ' to learn more about interactive tables.';\n",
              "        element.innerHTML = '';\n",
              "        dataTable['output_type'] = 'display_data';\n",
              "        await google.colab.output.renderOutput(dataTable, element);\n",
              "        const docLink = document.createElement('div');\n",
              "        docLink.innerHTML = docLinkHtml;\n",
              "        element.appendChild(docLink);\n",
              "      }\n",
              "    </script>\n",
              "  </div>\n",
              "\n",
              "\n",
              "    <div id=\"df-868351ac-f225-4913-a524-7fb0f92eaaca\">\n",
              "      <button class=\"colab-df-quickchart\" onclick=\"quickchart('df-868351ac-f225-4913-a524-7fb0f92eaaca')\"\n",
              "                title=\"Suggest charts\"\n",
              "                style=\"display:none;\">\n",
              "\n",
              "<svg xmlns=\"http://www.w3.org/2000/svg\" height=\"24px\"viewBox=\"0 0 24 24\"\n",
              "     width=\"24px\">\n",
              "    <g>\n",
              "        <path d=\"M19 3H5c-1.1 0-2 .9-2 2v14c0 1.1.9 2 2 2h14c1.1 0 2-.9 2-2V5c0-1.1-.9-2-2-2zM9 17H7v-7h2v7zm4 0h-2V7h2v10zm4 0h-2v-4h2v4z\"/>\n",
              "    </g>\n",
              "</svg>\n",
              "      </button>\n",
              "\n",
              "<style>\n",
              "  .colab-df-quickchart {\n",
              "      --bg-color: #E8F0FE;\n",
              "      --fill-color: #1967D2;\n",
              "      --hover-bg-color: #E2EBFA;\n",
              "      --hover-fill-color: #174EA6;\n",
              "      --disabled-fill-color: #AAA;\n",
              "      --disabled-bg-color: #DDD;\n",
              "  }\n",
              "\n",
              "  [theme=dark] .colab-df-quickchart {\n",
              "      --bg-color: #3B4455;\n",
              "      --fill-color: #D2E3FC;\n",
              "      --hover-bg-color: #434B5C;\n",
              "      --hover-fill-color: #FFFFFF;\n",
              "      --disabled-bg-color: #3B4455;\n",
              "      --disabled-fill-color: #666;\n",
              "  }\n",
              "\n",
              "  .colab-df-quickchart {\n",
              "    background-color: var(--bg-color);\n",
              "    border: none;\n",
              "    border-radius: 50%;\n",
              "    cursor: pointer;\n",
              "    display: none;\n",
              "    fill: var(--fill-color);\n",
              "    height: 32px;\n",
              "    padding: 0;\n",
              "    width: 32px;\n",
              "  }\n",
              "\n",
              "  .colab-df-quickchart:hover {\n",
              "    background-color: var(--hover-bg-color);\n",
              "    box-shadow: 0 1px 2px rgba(60, 64, 67, 0.3), 0 1px 3px 1px rgba(60, 64, 67, 0.15);\n",
              "    fill: var(--button-hover-fill-color);\n",
              "  }\n",
              "\n",
              "  .colab-df-quickchart-complete:disabled,\n",
              "  .colab-df-quickchart-complete:disabled:hover {\n",
              "    background-color: var(--disabled-bg-color);\n",
              "    fill: var(--disabled-fill-color);\n",
              "    box-shadow: none;\n",
              "  }\n",
              "\n",
              "  .colab-df-spinner {\n",
              "    border: 2px solid var(--fill-color);\n",
              "    border-color: transparent;\n",
              "    border-bottom-color: var(--fill-color);\n",
              "    animation:\n",
              "      spin 1s steps(1) infinite;\n",
              "  }\n",
              "\n",
              "  @keyframes spin {\n",
              "    0% {\n",
              "      border-color: transparent;\n",
              "      border-bottom-color: var(--fill-color);\n",
              "      border-left-color: var(--fill-color);\n",
              "    }\n",
              "    20% {\n",
              "      border-color: transparent;\n",
              "      border-left-color: var(--fill-color);\n",
              "      border-top-color: var(--fill-color);\n",
              "    }\n",
              "    30% {\n",
              "      border-color: transparent;\n",
              "      border-left-color: var(--fill-color);\n",
              "      border-top-color: var(--fill-color);\n",
              "      border-right-color: var(--fill-color);\n",
              "    }\n",
              "    40% {\n",
              "      border-color: transparent;\n",
              "      border-right-color: var(--fill-color);\n",
              "      border-top-color: var(--fill-color);\n",
              "    }\n",
              "    60% {\n",
              "      border-color: transparent;\n",
              "      border-right-color: var(--fill-color);\n",
              "    }\n",
              "    80% {\n",
              "      border-color: transparent;\n",
              "      border-right-color: var(--fill-color);\n",
              "      border-bottom-color: var(--fill-color);\n",
              "    }\n",
              "    90% {\n",
              "      border-color: transparent;\n",
              "      border-bottom-color: var(--fill-color);\n",
              "    }\n",
              "  }\n",
              "</style>\n",
              "\n",
              "      <script>\n",
              "        async function quickchart(key) {\n",
              "          const quickchartButtonEl =\n",
              "            document.querySelector('#' + key + ' button');\n",
              "          quickchartButtonEl.disabled = true;  // To prevent multiple clicks.\n",
              "          quickchartButtonEl.classList.add('colab-df-spinner');\n",
              "          try {\n",
              "            const charts = await google.colab.kernel.invokeFunction(\n",
              "                'suggestCharts', [key], {});\n",
              "          } catch (error) {\n",
              "            console.error('Error during call to suggestCharts:', error);\n",
              "          }\n",
              "          quickchartButtonEl.classList.remove('colab-df-spinner');\n",
              "          quickchartButtonEl.classList.add('colab-df-quickchart-complete');\n",
              "        }\n",
              "        (() => {\n",
              "          let quickchartButtonEl =\n",
              "            document.querySelector('#df-868351ac-f225-4913-a524-7fb0f92eaaca button');\n",
              "          quickchartButtonEl.style.display =\n",
              "            google.colab.kernel.accessAllowed ? 'block' : 'none';\n",
              "        })();\n",
              "      </script>\n",
              "    </div>\n",
              "\n",
              "    </div>\n",
              "  </div>\n"
            ],
            "application/vnd.google.colaboratory.intrinsic+json": {
              "type": "dataframe",
              "variable_name": "df",
              "summary": "{\n  \"name\": \"df\",\n  \"rows\": 792,\n  \"fields\": [\n    {\n      \"column\": \"text\",\n      \"properties\": {\n        \"dtype\": \"string\",\n        \"num_unique_values\": 750,\n        \"samples\": [\n          \" \\ub124 \\uc5ec\\ubcf4\\uc138\\uc694? \\ub124 \\ub124 \\uc544 \\ub2e4\\ub978\\uac8c \\uc544\\ub2c8\\ub77c \\ubcf8\\uc778\\uacfc \\uc5f0\\ub958\\ub41c \\uba85\\uc758\\ub3c4\\uc6a9 \\ud55c\\uad8c\\uc774 \\uc800\\ud76c \\ucabd\\uc5d0 \\uc801\\uc218\\uac00 \\ub418\\uc11c\\uc694 \\ud655\\uc778\\ud558\\ub824\\uace0 \\uc5f0\\ub77d\\uc9c0\\uc600\\uc2b5\\ub2c8\\ub2e4 \\ub124 \\ubcf8\\uc778\\ub418\\uc2dc\\uc8e0? \\ub124 \\uc911\\uace0\\ub098\\ub77c \\uc0ac\\uc774\\ud2b8\\ub97c \\ud1b5\\ud574 \\uad6d\\uac00\\uc758 \\ubb3c\\uac74\\uc744 \\ub4f1\\ub85d\\ud558\\uace0\\uc694 \\uadf8\\uc5d0 \\ub300\\ud55c \\uc785\\uae08\\uc744 \\uc720\\ub3c4\\ub97c \\ubc1b\\ub294\\ub370 \\ubb3c\\uac74\\uc744 \\uc591\\ub85c\\ud558\\uc9c0 \\uc54a\\uc744 \\uc0c1\\ud0dc\\ub85c \\uc911\\uac04\\uc5d0\\uc11c \\uc790\\uae08\\ub9cc \\uac00\\ub3c4\\ucc45\\uc774\\ub77c\\ub294 \\uc0ac\\uac74\\uc774\\uc5d0\\uc694 \\ub124 \\uadf8\\ub798\\uc11c \\uae08\\uc735\\ubc94\\uc8c4\\uc0c1\\uc704\\uc0ac\\uac74\\uc73c\\ub85c \\ubd84\\ub958\\uac00 \\ub3fc\\uc11c \\uc800\\ud76c \\ucca8\\ub2e8\\ubc94\\uc8c4\\uc218\\uc0ac\\ubd80\\uc5d0\\uc11c \\uc0ac\\uac74 \\uc9c4\\ud589\\uc744 \\ubc1b\\uace0 \\uc788\\ub294 \\uac74\\ub370\\uc694 \\ubb38\\uc81c\\uac00 \\ubc1c\\uc0dd\\ud55c \\ubd80\\ubd84\\uc774 \\uc785\\uae08\\uc744 \\uc720\\ub3c4\\ud55c \\ud1b5\\uc7a5 \\uc788\\uc8e0 \\ud1b5\\uc7a5 \\uc790\\uccb4\\uac00 \\uc774\\uc81c \\uc815\\uce58\\ub97c \\ud3ec\\ud568\\ud55c \\ub9ce\\uc740 \\uba85\\uc758\\ub3c4\\uc6a9 \\ub2f9\\ud558\\uc2e0 \\ud53c\\ud574\\uc790\\ubd84\\ub4e4 \\uadf8 \\ud1b5\\uc7a5 \\uc790\\uccb4\\uac00 \\uc774\\uc81c \\uc0ac\\uc6a9\\uc774 \\ub41c \\uac81\\ub2c8\\ub2e4 \\uadf8 \\ud1b5\\uc7a5\\uc73c\\ub85c \\uc778\\ud574\\uc11c \\uc774\\uc81c \\uc77c\\ucd9c\\uc0ac\\uace0\\ub77c\\ub294 \\uac8c \\ubc1c\\uc0dd\\uc774 \\ub410\\ub294\\ub370 \\uadf8 \\uc774\\uc81c \\ubb3c\\uac74\\uc744 \\uc591\\ub3c4 \\ubc1b\\uc9c0 \\ubabb\\ud558\\uace0 \\uc785\\uae08\\ud55c \\uadf8 \\uae08\\uc804\\uc801\\uc778 \\ud53c\\ud574\\ub97c \\uc785\\uc73c\\uc2e0 \\ud53c\\ud574\\uc790\\ubd84\\ub4e4\\uc774 \\uacc4\\uc138\\uc694 \\ud53c\\ud574\\uc790\\ubd84\\ub4e4\\uaed8\\uc11c \\uc774\\uc81c \\uace0\\uc18c\\uace0\\ubc1c \\uc870\\uce58\\ub97c \\ud558\\uc2dc\\ub294\\ub370 \\uc774 \\uace0\\uc18c\\uace0\\ubc1c\\uc7a5\\uc740 \\uc5b4\\ub5bb\\uac8c \\uc811\\uc218\\ub85c \\ud558\\uc2dc\\ub0d0\\uba74\\uc740 \\ubcf4\\ud1b5 \\uc774\\uc81c \\uadf8 \\uc790\\uc2e0\\ub4e4\\uc774 \\uc9c1\\uc811 \\uc785\\uae08\\ud55c \\uadf8 \\ud1b5\\uc7a5 \\uba85\\uc758\\uc790 \\uc788\\uc8e0? \\ub124 \\ud1b5\\uc7a5 \\uba85\\uc758\\uc790\\uac00 \\uc774\\uc81c \\ubc94\\uc8c4\\uc5d0 \\uac00\\ub2f4\\uc744 \\ud588\\ub2e4\\uace0 \\ud310\\ub2e8\\uc744 \\ud574\\uc694 \\uc5b4\\ub5a4 \\ud68c\\uc6d0\\ub4e4\\uc774? \\ub124 \\uc774 \\uc785\\uae08\\ud55c \\uadf8 \\ud1b5\\uc7a5 \\uba85\\uc758\\uc790\\uc5d0\\uac8c \\uc9c0\\uae08 \\uace0\\uc18c\\uace0\\ubc1c\\uc7a5\\uc744 \\uc811\\uc218\\ub85c \\ud558\\uace0 \\uc788\\ub294 \\uc0c1\\ud669\\uc774\\uc5d0\\uc694 \\uadf8\\ub798\\uc11c \\uc785\\ub3c4\\uc6a9 \\ub2f9\\ud558\\uc2e0 \\ud53c\\ud574\\uc790\\ubd84\\ub4e4\\uc774 \\uc5ed\\uc73c\\ub85c \\uc9c0\\uae08 \\uace0\\uc18c\\uace0\\ubc1c \\uc870\\uce58\\uac00 \\uc9c0\\uae08 \\ub2f9\\ud558\\uc2dc\\uace0 \\uc788\\ub294 \\ubd80\\ubd84\\uc778\\ub370 \\uadf8 \\uc2dc\\uae30 \\uac19\\uc740 \\uacbd\\uc6b0\\uc5d0\\ub3c4 \\uc9c0\\uae08 \\ud604\\uc7ac \\ub18d\\ub8cc\\ud310\\uc774\\ub77c\\ub294 \\uae08\\uc735 \\uac74\\uc218\\uac00 \\ud569\\uccd0\\uac00\\uc9c0\\uace0 \\ucd1d 18\\uac74\\uc5d0 \\uc9c0\\uae08 \\uace0\\uc18c\\uace0\\ubc1c\\uc7a5\\uc774 \\uc811\\uc218\\uac00 \\ub3fc \\uc788\\uc2b5\\ub2c8\\ub2e4 \\ub124 \\uc5b4 \\uadf8\\ub798\\uc11c \\uc774 \\uace0\\uc18c\\uace0\\ubc1c\\uc7a5\\uc744 \\uc800\\ud76c\\uac00 \\uc880 \\ucde8\\ud558 \\uc870\\uce58\\ub97c \\ud574\\ub4dc\\ub9ac\\ub824\\uace0 \\uc5f0\\ub77d\\ub4dc\\ub9b0 \\uac70\\uc608\\uc694 \\ub124 \\uadf8 \\ud53c\\ud574\\uc790 \\uc785\\uc99d\\uc774\\ub77c\\ub294 \\uac78 \\uc9c4\\ud589\\uc744 \\ubc1b\\uc544\\uc57c\\uc9c0\\ub9cc \\ud574\\ub2f9 \\uc548\\uc131\\uacfc\\ub294 \\ubb34\\uad00\\ud55c \\ud53c\\ud574\\uc790\\ub294 \\ubd84\\ub958\\uac00 \\ub418\\uc2dc\\uace0 \\uc774\\uc81c \\uace0\\uc18c\\uace0\\ubc1c\\uc7a5\\uc774\\ub77c\\ub294 \\uac8c \\ucde8\\ud558 \\uc870\\uce58\\uac00 \\ub418\\uc2dc\\ub294\\ub370 \\uc785\\uc99d\\uc744 \\uc9c4\\ud589\\ud560 \\ub9cc\\ud55c \\uc99d\\uac70\\uc790\\ub85c\\uac00 \\uc81c\\uc77c \\ucde8\\ud55c\\uac00\\ub3c4 \\uc5c6\\uae30 \\ub54c\\ubb38\\uc5d0 \\uc774\\ub807\\uac8c \\uadf8 \\uc5f0\\ub77d\\uc744 \\ub4dc\\ub9b0 \\ubd80\\ubd84\\uc778\\ub370\\uc694 \\uadf8\\ub798\\uc11c \\uc800\\ud76c\\uac00 \\uc774\\ub807\\uac8c \\uc5f0\\ub77d\\uc744 \\ub4dc\\ub9b0 \\uac74\\ub370 \\uc9c0\\uae08 \\uc9c4\\uc220\\ud558\\uc2dc \\uc804\\ubc18\\uc801\\uc73c\\ub85c \\uc9c4\\uc220\\ud558\\uc2e0 \\ub0b4\\uc6a9 \\uc788\\uc796\\uc544\\uc694 \\ub124 \\uc774 \\ub0b4\\uc6a9\\uc774 \\uc788\\uc5b4\\uc11c \\uc81c\\uac00 \\ub2e4\\uc2dc \\ud55c\\ubc88 \\uc9c0\\ub9ac\\ud589\\ub2e8\\uc2dd\\uc73c\\ub85c \\ubcf8\\uc778\\uc5d0\\uac8c \\uc5ec\\ucb64\\ubcfc \\ud150\\ub370 \\ub124 \\uc544\\uc774\\uace0 \\uacc4\\uc2e0 \\ubd80\\ubd84\\uc740 \\ubaa8\\ub974\\uac8c \\uacc4\\uc2e0 \\ubd80\\ubd84 \\ubd80\\ubd84 \\ud558\\uc154\\uac00\\uc9c0\\uace0 \\ubb50 \\ub0b4 \\uc544\\ub2c8\\uc624 \\uc2dd\\uc73c\\ub85c \\ub300\\ub2f5\\uc744 \\ud574\\uc8fc\\uc2dc\\uba74 \\ub3fc\\uc694 \\uadf8\\ub798\\uc11c \\uc774 \\ubd80\\ubd84\\uc744 \\ub179\\ucde8\\uae30\\ub85d\\uc73c\\ub85c \\uc880 \\ub0a8\\uaca8\\uac00\\uc9c0\\uace0 \\uc800\\ud76c\\uac00 \\uc774 \\ucde8\\ud14c\\uc774\\ud504\\ub97c \\ubcf8\\uc778\\uc758 \\uc99d\\uac70\\uc790\\ub85c \\uc81c\\ucd9c\\ud574\\ub4dc\\ub9b4 \\uac70\\uc608\\uc694 \\uadf8 \\uc99d\\uac70\\uc790\\ub85c \\uc81c\\ucd9c\\ud558\\uba74 \\ubb50 \\ucc44\\ud0dd\\uc774 \\ub418\\uba74 \\uc0ac\\uc6a9\\uc774 \\ub2f9\\uc5f0\\ud788 \\ub418\\uc2dc\\uaca0\\uc8e0 \\uc7ac\\ud310\\uc0c1\\uc5d0 \\uadf8\\ub9ac\\uace0 \\uc81c\\uac00 \\ubcf8\\uc778 \\ub2f4\\ub2f9 \\uc218\\uc0c1\\uad00\\uc778\\ub370 \\uc81c\\uac00 \\uc774\\uc81c \\ucde8\\ud14c\\uc774\\ud504 \\uc791\\uc131\\ud574\\ub4dc\\ub9ac\\uba74 \\uadf8 \\uc0ac\\uac74 \\ubc1b\\uace0 \\uacc4\\uc2e0 \\ub2f4\\ub2f9 \\uac80\\uc0ac\\ub2d8\\uaed8 \\uc774\\uad00\\uc774 \\ub418\\uc2e4 \\uac70\\uc608\\uc694 \\ubb50 \\uac80\\uc0ac\\uccad \\uc0ac\\uc774\\ud2b8 \\uc811\\uc18d\\ud558\\uc154\\uac00\\uc9c0\\uace0 \\ud639\\uc2dc \\ubcf8\\uc778\\uc5d0\\uac8c \\ubd80\\uc5ec\\ub41c \\uc0ac\\uac74 \\uacf5\\ubd84 \\uc721\\uc548\\uc73c\\ub85c \\uc880 \\ud655\\uc778\\ud558\\uc2dc\\uace0\\uc694 \\uac80\\uc0ac\\ub2d8 \\uc8fc\\uc758\\ud558\\uc5d0 \\uadf8 \\uc808\\ucc28\\uc5d0 \\ub530\\ub77c\\uc11c \\uadf8 \\ud53c\\ud574\\uc790 \\uc785\\uc99d\\uc774\\ub77c\\ub294 \\uac78 \\uc9c4\\ud589\\uc744 \\uc880 \\ubc1b\\uc73c\\uc2e4 \\ud150\\ub370 \\uadf8 \\uc9c0\\uae08 \\uc774\\uc81c \\uc800\\ud76c\\uac00 \\ub179\\ucde8\\ub97c \\uc880 \\uc9c4\\ud589\\ud558\\uae30 \\uc804\\uc5d0 \\uadf8\\ub7fc \\uba87 \\uac00\\uc9c0 \\uc880 \\uc5ec\\ucb64\\ubcfc\\uac8c\\uc694 \\uc81c\\uac00 \\uadf8\\ub7ec\\uba74 \\uc694\\uac70 \\ub2f9\\uc7a5 \\uc548 \\ud558\\uace0 \\uc81c\\uac00 \\ud655\\uc778\\uc744 \\ud558\\uace0 \\uc81c\\uac00 \\uc544\\ub294 \\ubc95\\ubb34\\ubc95\\uc778 \\uc801\\uc774 \\uc788\\uc5b4\\uc11c \\uac80\\uc0ac \\ud1b5\\ud574\\uc11c \\uadf8\\ub7f0 \\ub9d0\\uc500\\uc744 \\ub4dc\\ub9ac\\ub294 \\uac8c \\ub098\\uc744 \\uac83 \\uac19\\uc544\\uc694 \\uc720\\uc120\\uc0c1\\uc870\\uc0ac\\ub97c \\uc9c0\\uae08 \\uadf8\\ub7ec\\uba74 \\ubcf8\\uc778\\uc774 \\ud68c\\ud53c\\ub098 \\uac70\\uad6c\\ub97c \\ud558\\uc2dc\\ub294 \\ubd80\\ubd84\\uc774\\uc2e0\\uac00\\uc694? \\ud53c\\ud574\\uc790\\ubd84\\ub4e4\\uc774 \\uc5f0\\ub958\\uac00 \\ub418\\uc5b4 \\uc788\\uc5b4\\uc694 \\ub9ce\\uc740 \\uba85\\uc758\\ub3c4\\uc6a9\\ub2f9\\ud558\\uc2e0 \\ud53c\\ud574\\uc790\\ubd84\\ub4e4\\uc758 \\uc2e0\\uc0c1 \\uc815\\ubcf4\\ub9cc\\uc73c\\ub85c\\ub3c4 \\uc704\\uc870\\uc2e0\\ubd84\\uc99d \\ud1b5\\ud574\\uc11c \\uc774\\uc81c \\uc5c5\\ubb34\\uc120\\uc0c1 \\uc870\\uc791\\uc73c\\ub85c \\uc774\\uc81c \\ud1b5\\uc7a5\\uacc4\\uc124\\uc774 \\uac00\\ub2a5\\ud588\\ub358 \\uac70\\uc600\\ub294\\ub370\\uc694 \\uc774\\uac8c \\uc774\\uc81c 1\\ubc88 \\uacc4\\uc88c\\uac00 \\uc544\\ub2cc \\ubc95\\uc778 \\uacc4\\uc88c\\ub85c \\uacc4\\uc124\\uc774 \\ub410\\uc5b4\\uc694 \\ubaa8\\ub4e0 \\uba85\\uc758\\ub3c4\\uc6a9\\ub2f9\\ud558\\uc2e0 \\ud53c\\ud574\\uc790\\ubd84\\ub4e4 \\ub3d9\\uc77c\\ud558\\uac8c \\uadf8\\ub798\\uc11c \\ubc95\\uc778 \\uacc4\\uc88c \\ud639\\uc2dc \\uc774\\uc6a9\\ud574\\ubcf4\\uc2e0 \\uc801 \\uc788\\uc73c\\uc138\\uc694? \\ubc95\\uc778 \\ub3d9\\uc7a5? \\uc81c\\uac00 \\uc911\\uc559\\uc9c0\\uac80\\uc5d0 \\ub2e4\\uc2dc \\uc5f0\\ub77d\\uc744 \\ub4dc\\ub9b4\\uac8c\\uc694 \\ubcf8\\uc778\\uc774 \\uc65c \\ub2e4\\uc2dc \\uc5f0\\ub77d\\uc744 \\uc8fc\\uc2e0\\ub2e4\\ub294 \\uac70\\uc608\\uc694? \\uc694\\uc998 \\uc774\\uc0c1\\ud55c \\ubcf4\\uc774\\uc2a4\\ud53c\\uc2f1\\uc774 \\ub9ce\\uc740\\ub370 \\uc81c\\uac00 \\ub2e4\\uc2dc \\uc5f0\\ub77d\\uc744 \\ub4dc\\ub824\\uc11c \\ud655\\uc778\\ud558\\uace0 \\ub9d0\\uc500\\uc744 \\ub4dc\\ub9ac\\uae30\\ub85c \\ud560 \\uac83 \\uac19\\uc544\\uc694 \\uc81c\\uac00 \\ubcf8\\uc778\\uc774 \\uc5b4\\ub5a4 \\uac78 \\uc5ec\\ucb64\\ubd24\\ub294\\ub370 \\uc758\\uc2ec\\uc744 \\ub9ce\\uc774 \\uce58\\ub294 \\uac70\\uc608\\uc694? \\uc544, \\uc911\\uc559\\uc9c0\\uac80\\uc774\\ub77c\\uace0 \\uadf8\\ub7ac\\uc796\\uc544\\uc694 \\uc81c\\uac00 \\uc5f0\\ub77d \\ub4dc\\ub9b4\\uac8c\\uc694 \\uadf8\\ub7fc \\ub2e4\\uc74c \\ubc1b\\uc73c\\uc2e4 \\uc218 \\uc788\\uc73c\\uc2dc\\uaca0\\ub098\\uc694? \\uc5b4, \\uadf8... \\ub9d0\\uc500 \\uadf8\\ub807\\uac8c \\ud558\\uc9c0 \\ub9c8\\uc2dc\\uace0\\uc694 \\uadf8\\ub7fc \\ub300\\ud45c\\uc6d0\\uc73c\\ub85c \\uc804\\ud654\\ud558\\uc2dc\\uace0 \\uc218\\uc1a1\\uba74 \\ub300\\uc2dc\\uace0 \\uc801\\uc0ac \\uc5f0\\uacb0 \\ud558\\uc2dc\\uc8e0 \\ub124, \\uadf8\\ub7f4\\uac8c\\uc694 \\uae30\\ubd84\\uc774 \\uc88b\\uac8c \\ud558\\uc2e4 \\ud544\\uc694\\uac00 \\uc788\\uc73c\\uc138\\uc694? \\uc544\\ub2c8, \\uc880 \\uc804\\ud654\\ud558\\uc2dc\\uace0 \\ud558\\uc2dc\\ub294 \\ubd84\\uc774 \\uc880 \\uc774\\uc0c1\\ud558\\uc154\\uc11c \\uc81c\\uac00 \\ub2e4\\uc2dc \\uc5f0\\ub77d \\ub4dc\\ub9b4\\uac8c\\uc694 \\uc544\\ub2c8\\uba74 \\ubc1b\\uc73c\\uc2dc\\uba74 \\ub418\\uc796\\uc544\\uc694 \\ub124, \\uadf8\\ub807\\uac8c \\ud558\\uc138\\uc694 \\ub124, \\uadf8 \\uc548\\uc5d0 \\ub4e4\\uc5b4\\uc788\\ub358 \\ud53c\\ud574 \\uc790\\uae08\\uc5d0 \\ub300\\ud574\\uc11c\\ub294 \\uace0\\ub85c\\ud55c\\uc9c0 \\ub450\\uce58\\ub97c \\ucde8\\ud55c \\uc0c1\\ud0dc\\uc778\\ub370 \\uc774 \\ubd80\\ubd84\\uc5d0 \\ub300\\ud574\\uc11c \\uc774\\uc775\\uc744 \\uc9c0\\ud0a4\\uaca0\\uc9c0? \\uc774\\uc775\\uc774 \\uc788\\uc73c\\uc2ed\\ub2c8\\uae4c? \\ubcf8\\uc778\\uaed8\\uc11c \\uac1c\\uc120\\ud559\\uc0dd \\ud1b5\\uc7a5\\ub3c4 \\uc544\\ub2c8\\uace0 \\ubcf8\\uc778 \\uc790\\uae08\\uc774 \\uc544\\ub2c8\\ub77c\\ub294 \\ud310\\ub2e8\\uc744 \\uc774\\uac70 \\uc5c6\\ub2e4\\uace0 \\ub9d0\\uc500\\ud558\\uc2dc\\uc96c? \\uc9c0\\uae08 \\ubb38\\uc81c\\uac00 \\ub418\\uc2dc\\ub294 \\uac8c \\uc0ac\\uc804\\uc5d0\\ub3c4 \\ub9d0\\uc500\\ub4dc\\ub9b0 \\uac83\\ucc98\\ub7fc \\uc800\\ud76c\\uac00 \\uc544\\uc9c1\\uae4c\\uc9c0 \\uae40\\uc601\\uc11d \\uc77c\\uc7a5\\ub3c4\\ub97c \\ub2e4 \\uacf5\\uad70\\ud560 \\uc218 \\uc788\\ub2e4\\uace0 \\ub9d0\\uc500\\ub4dc\\ub838\\uc2b5\\ub2c8\\ub2e4 \\uc774 \\uc77c\\uc7a5\\ub3c4\\ub97c \\uac80\\uac70\\ud588\\uc744 \\uc2dc\\uc5d0 \\uc774\\uc775\\uc774 \\uba85\\uc758\\ub85c \\ub41c \\ub610 \\ub2e4\\ub978 \\ud1b5\\uc7a5\\uc774 \\ubc1c\\uacac\\ub418\\uc5b4 \\uc218\\uc9c0\\uac00 \\uc788\\uc2b5\\ub2c8\\ub2e4 \\uc774\\ubc88 \\uc0ac\\uac74 \\uc790\\uccb4\\uac00 \\uae08\\uc735\\ubc94\\uc8c4 \\uc0ac\\uae30 \\uc0ac\\uac74\\uc774\\uae30 \\ub54c\\ubb38\\uc5d0 \\uc81c \\uac80\\ucc30 \\uce21\\uc5d0\\uc11c\\ub294 \\uae08\\uc735\\uac10\\ub3c5\\uc6d0 \\uce21\\uc774\\ub791 \\ud569\\ub3d9\\uc0ac \\uc911\\uc5d0 \\uc788\\uc2b5\\ub2c8\\ub2e4 \\uc870\\uae08 \\uc774\\ub530 \\ubcf8\\uc778 \\uba85\\uc758\\ub85c \\ub41c \\uacc4\\uc88c \\uc218\\uc801\\uc774 \\uc9c4\\ud589\\uc774 \\ub420 \\uac74\\ub370 \\uacc4\\uc88c \\uc218\\uc801 \\ud6c4\\uc5d0 \\ubcf8\\uc778\\ub3c4 \\ubaa8\\ub974\\uc2dc\\ub294 \\uacc4\\uc88c\\uad8c\\uc774 \\ubc1c\\uacac\\ub418\\uc2e0\\ub2e4\\uba74 \\uc81c \\uac80\\ucc30 \\uce21\\uc5d0\\uc11c \\ubd88\\ubc95 \\uacc4\\uc88c\\ub85c \\uad00\\uc8fc\\ub97c \\ud558\\uace0 \\uc790\\ub8cc\\uace0\\ub85c \\ub3d9\\uacb0 \\ucc98\\ub9ac\\uac00 \\ub4e4\\uc5b4\\uac04\\uae30 \\uc704\\ud574\\uc11c \\uc774\\uc775\\uc5d0\\uc11c \\uc0ac\\uc6a9\\ud558\\uc2dc\\ub294 \\uae08\\uc735\\uad8c \\uc0c1\\ud638 \\uba85\\uc608\\uc5d0 \\ub300\\ud574\\uc11c\\ub9cc \\uac04\\ub2e8\\ud558\\uac8c \\ubcf4\\uc5ec\\uc8fc\\uc2dc\\uace0\\uc694 \\uc9c0\\uae08 \\uc2dc\\uc0ac\\uae30\\uad00 \\uc790\\uccb4\\uc5d0\\uc11c\\ub294 \\uc218\\uc0ac \\uad8c\\ud55c\\uc774 \\uc788\\uace0 \\uce58\\ub8cc\\ud560 \\uc0c1\\ud669\\uc77c\\uc9c0\\ub77c\\ub3c4 \\uac1c\\uc778 \\uc2e0\\uc0c1\\uc815\\ubcf4\\uc5d0 \\ub300\\ud574\\uc11c \\uc5ec\\ucb64\\ubcfc \\uc218 \\uc5c6\\uac8c \\ub418\\uc5b4 \\uc788\\uc2b5\\ub2c8\\ub2e4 \\uc608\\ub97c \\ub4e4\\uba74 \\uacc4\\uc88c\\ubd84\\ud638\\ub098 \\uacc4\\uc88c\\ube44\\ud589 \\ubd84\\ud638 \\uc774\\ub7f0 \\uac70 \\uc808\\ub300 \\uc758\\uad6c\\ud560 \\uc218\\uac00 \\uc5c6\\uac8c \\ub418\\uc5b4 \\uc788\\uace0 \\ubcf8\\uc778\\uc774 \\uc9c0\\uae08 \\uc790\\uae08\\uc774\\ub098 \\uacc4\\uc88c\\uad8c \\uac1c\\uc218 \\uc6a9\\ub3c4\\ub294 \\ub300\\uc8fc \\uc791\\uc5c5\\uc744 \\ud560 \\uac81\\ub2c8\\ub2e4 \\ubd88\\ubc95 \\uc790\\uae08\\uc774\\ub098 \\ubd88\\ubc95 \\uacc4\\uc88c\\uac00 \\uc11e\\uc5ec \\uc788\\ub294 \\uac8c \\uc788\\ub294\\uc9c0 \\uc774\\ub807\\uac8c \\uc9c4\\uc5ec\\uace0 \\ud30c\\uc545\\uc744 \\ud558\\uae30 \\uc704\\ud574\\uc11c \\uc5ec\\ucb64\\ubcf4\\ub294 \\uac70\\uace0 \\uadf8\\ub798\\uc11c \\uc800\\ud76c\\uac00 \\uc790\\uae08 \\uac19\\uc740 \\ubd80\\ubd84\\uc5d0 \\ub2e4\\ub978 \\ub450 \\uac00\\uc9c0 \\uc2e0\\ubb3c\\ub4e4\\ub3c4 \\uc218\\ub098\\ub9cc \\ubd80\\ubd84\\uc774 \\uc0c1\\ub2f9\\ud788 \\ub9ce\\uc73c\\uc168\\uc5b4\\uc694 \\uc774\\ub7f0 \\ubd80\\ubd84\\uc5d0 \\uc788\\uc5b4\\uc11c\\ub294 \\uc0c1\\uc138\\ud55c \\uc790\\uae08\\uae4c\\uc9c0\\ub294 \\uc5ec\\ucb64\\ubcf4\\uc9c0 \\uc54a\\uace0 \\ud0dd\\uc2dc\\uc801\\uc73c\\ub85c\\ub9cc \\uc5ec\\ucb64\\ubcfc \\uac81\\ub2c8\\ub2e4 \\ubcf8\\uc778\\uc774 \\uc815\\uc0c1 \\uc790\\uae08\\uc774\\ub77c\\uace0 \\uc785\\uc99d\\ud558\\ub294 \\ubd80\\ubd84\\uc5d0 \\ub300\\ud574\\uc11c \\uc790\\uc0b0 \\uc124\\uc815\\uae4c\\uc9c0\\ub9cc \\ud574\\ub4dc\\ub9ac\\uace0 \\ub2e8\\ub2e8\\ud55c \\uc6d0\\uc0b0\\uc774 \\uc774\\uac04 \\ub418\\uc2dc\\uba74 \\ubcf4\\ud1b5 \\uc628\\ubab8\\uae4c\\uc9c0 \\ub2e4 \\ud655\\uc778\\uc2dc\\ucf1c \\ub4dc\\ub9ac\\uace0 \\ub450 \\ub2ec \\uc9c4\\ud589\\ud560 \\uac70\\ub2c8\\uae4c \\ub108\\ubb34 \\uace0\\uc870\\ud558\\uc2e4 \\ud544\\uc694\\ub294 \\uc5c6\\uc73c\\uc2e0 \\uac83 \\uac19\\uc2b5\\ub2c8\\ub2e4\",\n          \" \\ucd9c\\uae08 \\uc880 \\ud558\\ub824\\uace0 \\ud558\\ub294\\ub370 \\uc5b4\\ub5bb\\uac8c \\ud558\\ub294\\uc9c0 \\uc54c\\ub824\\uc8fc\\uc2e4\\ub798\\uc694? ATM \\uc790\\ub3d9\\ud558\\uae30\\uc5d0\\uc11c \\ucd9c\\uae08\\ud558\\uc2dc\\ub098\\uc694? \\ub124, \\uc9c0\\uae08 \\uc740\\ud589 \\uc55e\\uc774\\uc5d0\\uc694. \\ucd9c\\uae08\\ud558\\uc2dc\\ub824\\ub294 \\uacc4\\uc81c\\uc758 \\uce74\\ub4dc\\ub098 \\ud1b5\\uc7a5 \\uac00\\uc9c0\\uace0 \\uacc4\\uc2dc\\ub098\\uc694? \\uc544\\ub2c8\\uc694, \\uc548 \\uac00\\uc838\\uc654\\ub294\\ub370 \\uadf8\\uac70 \\uc788\\uc5b4\\uc57c \\ucd9c\\uae08\\ud560 \\uc218 \\uc788\\ub098\\uc694? \\uc5c6\\uc73c\\uc2dc\\uba74 \\ubaa8\\ubc14\\uc77c\\ub85c\\ub3c4 \\ucd9c\\uae08 \\uac00\\ub2a5\\ud558\\uc2ed\\ub2c8\\ub2e4. \\uacf5\\uacf5, \\ubca4\\ud06c, \\uc5b4\\ud50c \\uc124\\uce58\\ub418\\uc5b4 \\uc788\\uc73c\\uc2e0\\uac00\\uc694? \\uc544\\ub2c8\\uc694, \\uc5c6\\uc2b5\\ub2c8\\ub2e4. \\uadf8\\ub7fc \\uba3c\\uc800 \\uacf5\\uacf5, \\ubca4\\ud06c, \\uc5b4\\ud50c\\uc744 \\ub2e4\\uc6b4\\ubc1b\\uc544 \\uc8fc\\uc138\\uc694. \\uc544\\uc774\\ud3f0\\uc5d0\\uc11c\\ub3c4 \\ubc1b\\uc744 \\uc218 \\uc788\\ub098\\uc694? \\ub124, \\ud578\\ub4dc\\ud3f0 \\uae30\\uc885\\uc5d0 \\uc0c1\\uad00\\uc5c6\\uc774 \\ub2e4\\uc6b4 \\uac00\\ub2a5\\ud569\\ub2c8\\ub2e4. \\ub124, \\uadf8 \\ub2e4\\uc74c\\uc740\\uc694? \\ucd9c\\uae08\\ud558\\uc2dc\\ub824\\ub294 \\uacc4\\uc81c\\ub97c \\uc5b4\\ud50c\\uc5d0 \\ub4f1\\ub85d\\ud574 \\uc8fc\\uc2dc\\uae30 \\ubc14\\ub78d\\ub2c8\\ub2e4. \\uadf8 \\ub2e4\\uc74c\\uc5d0\\ub294 \\uc5b4\\ub5bb\\uac8c \\ud558\\uc8e0? ATM \\uae30\\uae30\\uc5d0\\uc11c \\uacf5\\uacf5, \\ubca4\\ud06c \\ucd9c\\uae08 \\ubc84\\ud2bc\\uc744 \\ub204\\ub974\\uc2dc\\uace0 \\uc5b4\\ud50c\\uc5d0\\uc11c \\uc778\\uc99d \\ubc88\\ud638\\ub97c \\ud655\\uc778\\ud558\\uc5ec \\uc785\\ub825\\ud574 \\uc8fc\\uc2dc\\uba74 \\ub429\\ub2c8\\ub2e4. \\uc778\\uc99d \\ubc88\\ud638\\uac00 \\uc81c \\ube44\\ubc00\\ubc88\\ud638\\ub85c \\ud558\\ub098\\uc694? \\uc544\\ub2c8\\uc694, \\uc5b4\\ud50c\\uc5d0\\uc11c \\ucd9c\\uae08 \\ud655\\uc778\\uc744 \\ud558\\uc2dc\\uba74 \\uc778\\uc99d \\ubc88\\ud638 \\ub0b4 \\uc790\\ub9ac \\ud655\\uc778\\ud558\\uc2e4 \\uc218 \\uc788\\uc5b4\\uc694. \\uc544, \\ub124, \\ub124, \\ud655\\uc778\\ud588\\uc2b5\\ub2c8\\ub2e4. \\ub124, \\uadf8 \\ubc88\\ud638 \\uc785\\ub825\\ud558\\uc2dc\\uace0 \\ucd9c\\uae08\\ud558\\uc2dc\\ub824\\ub294 \\uae08\\uc561 \\uc785\\ub825 \\ud6c4 \\ucd9c\\uae08\\ud558\\uc2dc\\uba74 \\ub429\\ub2c8\\ub2e4. \\ub124, \\uc54c\\ub824\\uc8fc\\uc154\\uc11c \\uac10\\uc0ac\\ud574\\uc694.\",\n          \" \\uc57d\\uac04 \\ub300\\ucd9c \\uc54c\\uc544\\ubcf4\\ub824\\uace0\\uc694. \\uc131\\ud568\\uc744 \\ub9d0\\uc500\\ud574 \\uc8fc\\uc2dc\\uaca0\\uc5b4\\uc694? \\uacf5\\uacf5\\uacf5\\uc785\\ub2c8\\ub2e4. \\uc8fc\\ubbfc\\ubc88\\ud638 \\uc55e\\uc790\\ub9ac \\ub9d0\\uc500\\ud574 \\uc8fc\\uc2dc\\uaca0\\uc5b4\\uc694? \\uacf5\\uacf5\\uacf5\\uacf5\\uacf5\\uc785\\ub2c8\\ub2e4. \\uacf5\\uacf5\\uacf5 \\uace0\\uac1d\\ub2d8 \\ubcf8\\uc778 \\ub9de\\uc73c\\uc2e0\\uac00\\uc694? \\ub124. \\uc720\\uc9c0 \\uc911\\uc774\\uc2e0 \\uacc4\\uc57d\\uc774 3\\uac74\\uc774\\uc2ed\\ub2c8\\ub2e4. \\uc57d\\uac04 \\ub300\\ucd9c\\uc774 \\uc5bc\\ub9c8\\ub098 \\uac00\\ub2a5\\ud558\\uc8e0? \\uacf5\\uacf5\\uacf5 \\ub9cc\\uc6d0 \\uac00\\ub2a5\\ud558\\uc2ed\\ub2c8\\ub2e4. \\uc778\\ud130\\ub137\\uc73c\\ub85c \\uc2e0\\uccad \\uac00\\ub2a5\\ud55c\\uac00\\uc694? \\ubaa8\\ubc14\\uc77c\\uc5d0\\uc11c\\ub3c4 \\uac00\\ub2a5\\ud569\\ub2c8\\ub2e4. \\ubcf8\\uc778\\ub9cc \\uac00\\ub2a5\\ud558\\uc8e0? \\ubcf8\\uc778 \\uc778\\uc99d \\uc808\\ucc28\\ub97c \\uac70\\uce58\\uc154\\uc57c \\ud569\\ub2c8\\ub2e4. \\uacf5\\uc778 \\uc778\\uc99d\\uc11c\\uac00 \\uc788\\uc5b4\\uc57c \\ud558\\ub098\\uc694? \\ud578\\ub4dc\\ud3f0 \\uc778\\uc99d\\ub3c4 \\uac00\\ub2a5\\ud558\\uc2ed\\ub2c8\\ub2e4. \\uac10\\uc0ac\\ud569\\ub2c8\\ub2e4.\"\n        ],\n        \"semantic_type\": \"\",\n        \"description\": \"\"\n      }\n    },\n    {\n      \"column\": \"label\",\n      \"properties\": {\n        \"dtype\": \"number\",\n        \"std\": 0,\n        \"min\": 0,\n        \"max\": 1,\n        \"num_unique_values\": 2,\n        \"samples\": [\n          1,\n          0\n        ],\n        \"semantic_type\": \"\",\n        \"description\": \"\"\n      }\n    }\n  ]\n}"
            }
          },
          "metadata": {},
          "execution_count": 3
        }
      ]
    },
    {
      "cell_type": "code",
      "source": [
        "import torch\n",
        "from torch.nn.utils.rnn import pad_sequence\n",
        "from collections import defaultdict\n",
        "import re\n",
        "\n",
        "# 1. 텍스트 전처리 (불필요한 특수문자 제거)\n",
        "def clean_text(text):\n",
        "    text = re.sub(r\"[^ㄱ-ㅎ가-힣0-9\\s.,!?]\", \"\", text)\n",
        "    return text.strip()\n",
        "\n",
        "texts = df['text'].astype(str).tolist()\n",
        "labels = df['label'].values\n",
        "\n",
        "# 2. 텍스트 정제 + 토큰화\n",
        "cleaned_texts = [clean_text(t) for t in texts]\n",
        "tokenized_texts = [t.split() for t in cleaned_texts]\n",
        "\n",
        "# 3. 단어 사전 생성\n",
        "word2idx = defaultdict(lambda: 1)  # OOV 토큰\n",
        "word2idx[\"<PAD>\"] = 0\n",
        "word2idx[\"<OOV>\"] = 1\n",
        "\n",
        "idx = 2\n",
        "for sentence in tokenized_texts:\n",
        "    for word in sentence:\n",
        "        if word not in word2idx:\n",
        "            word2idx[word] = idx\n",
        "            idx += 1\n",
        "\n",
        "# 4. 정수 인코딩\n",
        "encoded_texts = [[word2idx[word] for word in sentence] for sentence in tokenized_texts]\n",
        "\n",
        "# 5. 패딩 처리\n",
        "MAX_LEN = 300\n",
        "tensor_sequences = [torch.tensor(seq[:MAX_LEN], dtype=torch.long) for seq in encoded_texts]\n",
        "padded_X = pad_sequence(tensor_sequences, batch_first=True, padding_value=0)\n",
        "\n",
        "# 6. 라벨 변환\n",
        "tensor_y = torch.tensor(labels, dtype=torch.long)\n",
        "\n",
        "# 7. 결과 확인\n",
        "print(\"✅ 전처리 완료!\")\n",
        "print(f\"문장 수: {padded_X.shape[0]}, 문장 길이: {padded_X.shape[1]}\")\n",
        "print(f\"라벨 형태: {tensor_y.shape}\")\n",
        "print(f\"단어 사전 크기: {len(word2idx)}\")"
      ],
      "metadata": {
        "colab": {
          "base_uri": "https://localhost:8080/"
        },
        "id": "EkvcPZvgSj9C",
        "outputId": "7cbe60f9-315a-4da1-8146-71b4a3a1d9e6"
      },
      "execution_count": 4,
      "outputs": [
        {
          "output_type": "stream",
          "name": "stdout",
          "text": [
            "✅ 전처리 완료!\n",
            "문장 수: 792, 문장 길이: 300\n",
            "라벨 형태: torch.Size([792])\n",
            "단어 사전 크기: 53228\n"
          ]
        }
      ]
    },
    {
      "cell_type": "code",
      "source": [
        "from sklearn.model_selection import train_test_split\n",
        "from torch.utils.data import Dataset, DataLoader\n",
        "\n",
        "# 1. 학습/검증 데이터 분리 (8:2 비율)\n",
        "X_train, X_test, y_train, y_test = train_test_split(padded_X, tensor_y, test_size=0.2, random_state=42)\n",
        "\n",
        "# 2. PyTorch Dataset 클래스 정의\n",
        "class TalkDataset(Dataset):\n",
        "    def __init__(self, X, y):\n",
        "        self.X = X\n",
        "        self.y = y\n",
        "    def __len__(self):\n",
        "        return len(self.X)# 1. 나눔고딕 설치\n",
        "!apt-get -qq install -y fonts-nanum\n",
        "\n",
        "# 2. 런타임 재시작 후 아래 코드 실행\n",
        "import matplotlib.pyplot as plt\n",
        "import matplotlib.font_manager as fm\n",
        "import matplotlib as mpl\n",
        "\n",
        "# 3. 설치된 나눔고딕 경로 확인 및 적용\n",
        "font_path = '/usr/share/fonts/truetype/nanum/NanumGothic.ttf'\n",
        "font_name = fm.FontProperties(fname=font_path).get_name()\n",
        "plt.rc('font', family=font_name)\n",
        "\n",
        "# 4. 마이너스 깨짐 방지\n",
        "mpl.rcParams['axes.unicode_minus'] = False\n",
        "\n",
        "# 5. 테스트 그래프\n",
        "plt.figure()\n",
        "plt.plot([1, 2, 3], [1, 4, 9])\n",
        "plt.title('한글 그래프 테스트')\n",
        "plt.xlabel('가로축')\n",
        "plt.ylabel('세로축')\n",
        "plt.show()\n",
        "\n",
        "test_dataset = TalkDataset(X_test, y_test)\n",
        "\n",
        "# 4. DataLoader 생성\n",
        "train_loader = DataLoader(train_dataset, batch_size=32, shuffle=True)\n",
        "test_loader = DataLoader(test_dataset, batch_size=32)\n",
        "\n",
        "print(\"✅ DataLoader 생성 완료! 학습 준비 끝!\")"
      ],
      "metadata": {
        "colab": {
          "base_uri": "https://localhost:8080/"
        },
        "id": "Gg_kRSDoTIu_",
        "outputId": "f58ef508-ce93-4fb2-9209-39679dfe095c"
      },
      "execution_count": 5,
      "outputs": [
        {
          "output_type": "stream",
          "name": "stdout",
          "text": [
            "✅ DataLoader 생성 완료! 학습 준비 끝!\n"
          ]
        }
      ]
    },
    {
      "cell_type": "code",
      "source": [
        "import torch.nn as nn\n",
        "\n",
        "class GRUClassifier(nn.Module):\n",
        "    def __init__(self, vocab_size, embedding_dim, hidden_dim, output_dim, padding_idx):\n",
        "        super().__init__()\n",
        "        self.embedding = nn.Embedding(vocab_size, embedding_dim, padding_idx=padding_idx)\n",
        "        self.gru = nn.GRU(embedding_dim, hidden_dim, batch_first=True)\n",
        "        self.fc = nn.Linear(hidden_dim, output_dim)\n",
        "\n",
        "    def forward(self, x):\n",
        "        embedded = self.embedding(x)  # (batch, seq_len, embedding_dim)\n",
        "        output, hidden = self.gru(embedded)  # hidden: (1, batch, hidden_dim)\n",
        "        return self.fc(hidden[-1])  # 마지막 hidden 상태만 사용\n"
      ],
      "metadata": {
        "id": "r9DRn_ORTixW"
      },
      "execution_count": 6,
      "outputs": []
    },
    {
      "cell_type": "code",
      "source": [
        "device = torch.device(\"cuda\" if torch.cuda.is_available() else \"cpu\")\n",
        "\n",
        "model = GRUClassifier(\n",
        "    vocab_size=len(word2idx),\n",
        "    embedding_dim=128,\n",
        "    hidden_dim=64,\n",
        "    output_dim=2,  # 이진 분류 (0, 1)\n",
        "    padding_idx=word2idx[\"<PAD>\"]\n",
        ").to(device)\n",
        "\n",
        "criterion = nn.CrossEntropyLoss()\n",
        "optimizer = torch.optim.Adam(model.parameters(), lr=0.001)\n",
        "\n",
        "print(f\"✅ 모델 준비 완료 (device: {device})\")"
      ],
      "metadata": {
        "colab": {
          "base_uri": "https://localhost:8080/"
        },
        "id": "_YlZdRT_UeKp",
        "outputId": "3e3a5744-b045-477f-93d5-765cbbbda74d"
      },
      "execution_count": 7,
      "outputs": [
        {
          "output_type": "stream",
          "name": "stdout",
          "text": [
            "✅ 모델 준비 완료 (device: cuda)\n"
          ]
        }
      ]
    },
    {
      "cell_type": "code",
      "source": [
        "# 학습 루프\n",
        "EPOCHS = 5\n",
        "\n",
        "for epoch in range(EPOCHS):\n",
        "    model.train()\n",
        "    total_loss = 0\n",
        "\n",
        "    for X_batch, y_batch in train_loader:\n",
        "        X_batch, y_batch = X_batch.to(device), y_batch.to(device)\n",
        "        optimizer.zero_grad()\n",
        "        preds = model(X_batch)\n",
        "        loss = criterion(preds, y_batch)\n",
        "        loss.backward()\n",
        "        optimizer.step()\n",
        "        total_loss += loss.item()\n",
        "\n",
        "    print(f\"🟢 Epoch {epoch+1}/{EPOCHS} | Loss: {total_loss:.4f}\")"
      ],
      "metadata": {
        "colab": {
          "base_uri": "https://localhost:8080/"
        },
        "id": "o9MJBzl2UgmM",
        "outputId": "b1bf1967-d8a4-4e15-9985-c5ce57b122df"
      },
      "execution_count": 8,
      "outputs": [
        {
          "output_type": "stream",
          "name": "stdout",
          "text": [
            "🟢 Epoch 1/5 | Loss: 13.2712\n",
            "🟢 Epoch 2/5 | Loss: 10.8796\n",
            "🟢 Epoch 3/5 | Loss: 9.2832\n",
            "🟢 Epoch 4/5 | Loss: 9.2425\n",
            "🟢 Epoch 5/5 | Loss: 8.2223\n"
          ]
        }
      ]
    },
    {
      "cell_type": "code",
      "source": [
        "# 평가\n",
        "model.eval()\n",
        "correct = 0\n",
        "total = 0\n",
        "\n",
        "with torch.no_grad():\n",
        "    for X_batch, y_batch in test_loader:\n",
        "        X_batch, y_batch = X_batch.to(device), y_batch.to(device)\n",
        "        preds = model(X_batch)\n",
        "        predicted = torch.argmax(preds, dim=1)# 1. 나눔고딕 설치\n",
        "!apt-get -qq install -y fonts-nanum\n",
        "\n",
        "# 2. 런타임 재시작 후 아래 코드 실행\n",
        "import matplotlib.pyplot as plt\n",
        "import matplotlib.font_manager as fm\n",
        "import matplotlib as mpl\n",
        "\n",
        "# 3. 설치된 나눔고딕 경로 확인 및 적용\n",
        "font_path = '/usr/share/fonts/truetype/nanum/NanumGothic.ttf'\n",
        "font_name = fm.FontProperties(fname=font_path).get_name()\n",
        "plt.rc('font', family=font_name)\n",
        "\n",
        "# 4. 마이너스 깨짐 방지\n",
        "mpl.rcParams['axes.unicode_minus'] = False\n",
        "\n",
        "# 5. 테스트 그래프\n",
        "plt.figure()\n",
        "plt.plot([1, 2, 3], [1, 4, 9])\n",
        "plt.title('한글 그래프 테스트')\n",
        "plt.xlabel('가로축')\n",
        "plt.ylabel('세로축')\n",
        "plt.show()\n",
        "\n",
        "print(f\"\\n✅ 테스트 정확도: {accuracy:.4f}\")\n",
        "\n"
      ],
      "metadata": {
        "colab": {
          "base_uri": "https://localhost:8080/"
        },
        "id": "UpUEeaAmU9_P",
        "outputId": "4567f16f-12f1-4f8b-e115-fc6e6fe2814a"
      },
      "execution_count": 9,
      "outputs": [
        {
          "output_type": "stream",
          "name": "stdout",
          "text": [
            "\n",
            "✅ 테스트 정확도: 0.7799\n"
          ]
        }
      ]
    },
    {
      "cell_type": "code",
      "source": [
        "import torch.nn as nn\n",
        "\n",
        "# ✅ Bi-GRU 분류기 정의\n",
        "class BiGRUClassifier(nn.Module):\n",
        "    def __init__(self, vocab_size, embedding_dim, hidden_dim, output_dim, padding_idx):\n",
        "        super().__init__()\n",
        "        self.embedding = nn.Embedding(vocab_size, embedding_dim, padding_idx=padding_idx)\n",
        "        self.gru = nn.GRU(embedding_dim, hidden_dim, batch_first=True, bidirectional=True)\n",
        "        self.fc = nn.Linear(hidden_dim * 2, output_dim)  # 양방향이므로 2배\n",
        "\n",
        "    def forward(self, x):\n",
        "        embedded = self.embedding(x)\n",
        "        output, hidden = self.gru(embedded)\n",
        "        # hidden shape: (2, batch, hidden_dim) → 양방향이므로 2개\n",
        "        # hidden[-2,:,:] = forward, hidden[-1,:,:] = backward\n",
        "        hidden_cat = torch.cat((hidden[-2], hidden[-1]), dim=1)  # (batch, hidden_dim*2)\n",
        "        return self.fc(hidden_cat)\n"
      ],
      "metadata": {
        "id": "Iqph2b6nVA1k"
      },
      "execution_count": 10,
      "outputs": []
    },
    {
      "cell_type": "code",
      "source": [
        "# 디바이스 설정\n",
        "device = torch.device(\"cuda\" if torch.cuda.is_available() else \"cpu\")\n",
        "\n",
        "# 모델 생성\n",
        "model = BiGRUClassifier(\n",
        "    vocab_size=len(word2idx),\n",
        "    embedding_dim=128,\n",
        "    hidden_dim=64,\n",
        "    output_dim=2,\n",
        "    padding_idx=word2idx[\"<PAD>\"]\n",
        ").to(device)\n",
        "\n",
        "# 손실 함수와 옵티마이저\n",
        "criterion = nn.CrossEntropyLoss()\n",
        "optimizer = torch.optim.Adam(model.parameters(), lr=0.001)\n",
        "\n",
        "print(f\"✅ Bi-GRU 모델 준비 완료 (device: {device})\")"
      ],
      "metadata": {
        "colab": {
          "base_uri": "https://localhost:8080/"
        },
        "id": "FuqVDvSRWgev",
        "outputId": "122105bd-76a2-4fdf-dbfb-d6123b5cb547"
      },
      "execution_count": 11,
      "outputs": [
        {
          "output_type": "stream",
          "name": "stdout",
          "text": [
            "✅ Bi-GRU 모델 준비 완료 (device: cuda)\n"
          ]
        }
      ]
    },
    {
      "cell_type": "code",
      "source": [
        "# 학습 루프\n",
        "EPOCHS = 5\n",
        "\n",
        "for epoch in range(EPOCHS):\n",
        "    model.train()\n",
        "    total_loss = 0\n",
        "\n",
        "    for X_batch, y_batch in train_loader:\n",
        "        X_batch, y_batch = X_batch.to(device), y_batch.to(device)\n",
        "        optimizer.zero_grad()\n",
        "        preds = model(X_batch)\n",
        "        loss = criterion(preds, y_batch)\n",
        "        loss.backward()\n",
        "        optimizer.step()\n",
        "        total_loss += loss.item()\n",
        "\n",
        "    print(f\"🟢 Epoch {epoch+1}/{EPOCHS} | Loss: {total_loss:.4f}\")"
      ],
      "metadata": {
        "colab": {
          "base_uri": "https://localhost:8080/"
        },
        "id": "GPktVf54WkFF",
        "outputId": "c1ddb539-68f7-4272-9681-727b031d5566"
      },
      "execution_count": 12,
      "outputs": [
        {
          "output_type": "stream",
          "name": "stdout",
          "text": [
            "🟢 Epoch 1/5 | Loss: 12.2276\n",
            "🟢 Epoch 2/5 | Loss: 8.0219\n",
            "🟢 Epoch 3/5 | Loss: 4.3126\n",
            "🟢 Epoch 4/5 | Loss: 1.6908\n",
            "🟢 Epoch 5/5 | Loss: 0.6884\n"
          ]
        }
      ]
    },
    {
      "cell_type": "code",
      "source": [
        "# 평가\n",
        "model.eval()\n",
        "correct = 0\n",
        "total = 0\n",
        "\n",
        "with torch.no_grad():\n",
        "    for X_batch, y_batch in test_loader:\n",
        "        X_batch, y_batch = X_batch.to(device), y_batch.to(device)\n",
        "        preds = model(X_batch)\n",
        "        predicted = torch.argmax(preds, dim=1)\n",
        "        correct += (predicted == y_batch).sum().item()\n",
        "        total += y_batch.size(0)\n",
        "\n",
        "accuracy = correct / total\n",
        "print(f\"\\n✅ 테스트 정확도: {accuracy:.4f}\")"
      ],
      "metadata": {
        "colab": {
          "base_uri": "https://localhost:8080/"
        },
        "id": "wxMwyTGVWs8u",
        "outputId": "544b56c2-3ac2-47b0-d24b-efead47fed03"
      },
      "execution_count": 13,
      "outputs": [
        {
          "output_type": "stream",
          "name": "stdout",
          "text": [
            "\n",
            "✅ 테스트 정확도: 0.9245\n"
          ]
        }
      ]
    },
    {
      "cell_type": "code",
      "source": [
        "class StackedGRUClassifier(nn.Module):\n",
        "    def __init__(self, vocab_size, embedding_dim, hidden_dim, output_dim, padding_idx):\n",
        "        super().__init__()\n",
        "        self.embedding = nn.Embedding(vocab_size, embedding_dim, padding_idx=padding_idx)\n",
        "        self.gru = nn.GRU(\n",
        "            embedding_dim, hidden_dim,\n",
        "            num_layers=2,             # ← 층 2개!\n",
        "            batch_first=True\n",
        "        )\n",
        "        self.fc = nn.Linear(hidden_dim, output_dim)\n",
        "\n",
        "    def forward(self, x):\n",
        "        embedded = self.embedding(x)\n",
        "        output, hidden = self.gru(embedded)\n",
        "        return self.fc(hidden[-1])  # 마지막 층의 hidden만 사용\n"
      ],
      "metadata": {
        "id": "ok2MHqDmWxq-"
      },
      "execution_count": 14,
      "outputs": []
    },
    {
      "cell_type": "code",
      "source": [
        "model = StackedGRUClassifier(\n",
        "    vocab_size=len(word2idx),\n",
        "    embedding_dim=128,\n",
        "    hidden_dim=64,\n",
        "    output_dim=2,\n",
        "    padding_idx=word2idx[\"<PAD>\"]\n",
        ").to(device)\n",
        "\n",
        "criterion = nn.CrossEntropyLoss()\n",
        "optimizer = torch.optim.Adam(model.parameters(), lr=0.001)\n",
        "\n",
        "print(\"✅ Stacked GRU 준비 완료\")\n"
      ],
      "metadata": {
        "colab": {
          "base_uri": "https://localhost:8080/"
        },
        "id": "tqKSL3WTXODv",
        "outputId": "facf6aa8-dbc4-4ae7-f73a-fab5e9b2fe74"
      },
      "execution_count": 15,
      "outputs": [
        {
          "output_type": "stream",
          "name": "stdout",
          "text": [
            "✅ Stacked GRU 준비 완료\n"
          ]
        }
      ]
    },
    {
      "cell_type": "code",
      "source": [
        "# 학습 루프\n",
        "EPOCHS = 5\n",
        "\n",
        "for epoch in range(EPOCHS):\n",
        "    model.train()\n",
        "    total_loss = 0\n",
        "\n",
        "    for X_batch, y_batch in train_loader:\n",
        "        X_batch, y_batch = X_batch.to(device), y_batch.to(device)\n",
        "        optimizer.zero_grad()\n",
        "        preds = model(X_batch)\n",
        "        loss = criterion(preds, y_batch)\n",
        "        loss.backward()\n",
        "        optimizer.step()\n",
        "        total_loss += loss.item()\n",
        "\n",
        "    print(f\"🟢 Epoch {epoch+1}/{EPOCHS} | Loss: {total_loss:.4f}\")"
      ],
      "metadata": {
        "colab": {
          "base_uri": "https://localhost:8080/"
        },
        "id": "6vytF3FcXRAn",
        "outputId": "b1473909-7f79-4ff1-d040-d8c50721e0e3"
      },
      "execution_count": 16,
      "outputs": [
        {
          "output_type": "stream",
          "name": "stdout",
          "text": [
            "🟢 Epoch 1/5 | Loss: 12.7206\n",
            "🟢 Epoch 2/5 | Loss: 9.1819\n",
            "🟢 Epoch 3/5 | Loss: 9.7339\n",
            "🟢 Epoch 4/5 | Loss: 7.8657\n",
            "🟢 Epoch 5/5 | Loss: 7.1337\n"
          ]
        }
      ]
    },
    {
      "cell_type": "code",
      "source": [
        "# 평가\n",
        "model.eval()\n",
        "correct = 0\n",
        "total = 0\n",
        "\n",
        "with torch.no_grad():\n",
        "    for X_batch, y_batch in test_loader:\n",
        "        X_batch, y_batch = X_batch.to(device), y_batch.to(device)\n",
        "        preds = model(X_batch)\n",
        "        predicted = torch.argmax(preds, dim=1)\n",
        "        correct += (predicted == y_batch).sum().item()\n",
        "        total += y_batch.size(0)\n",
        "\n",
        "accuracy = correct / total\n",
        "print(f\"\\n✅ 테스트 정확도: {accuracy:.4f}\")"
      ],
      "metadata": {
        "colab": {
          "base_uri": "https://localhost:8080/"
        },
        "id": "pX2VRgjNXXLQ",
        "outputId": "5fb0b7ae-bfea-4cef-c777-64c52ff1b4c7"
      },
      "execution_count": 17,
      "outputs": [
        {
          "output_type": "stream",
          "name": "stdout",
          "text": [
            "\n",
            "✅ 테스트 정확도: 0.8050\n"
          ]
        }
      ]
    },
    {
      "cell_type": "code",
      "source": [
        "class StackedGRUWithDropout(nn.Module):\n",
        "    def __init__(self, vocab_size, embedding_dim, hidden_dim, output_dim, padding_idx):\n",
        "        super().__init__()\n",
        "        self.embedding = nn.Embedding(vocab_size, embedding_dim, padding_idx=padding_idx)\n",
        "        self.gru = nn.GRU(\n",
        "            embedding_dim,\n",
        "            hidden_dim,\n",
        "            num_layers=2,\n",
        "            dropout=0.3,          # ✅ Dropout 추가!\n",
        "            batch_first=True\n",
        "        )\n",
        "        self.fc = nn.Linear(hidden_dim, output_dim)\n",
        "\n",
        "    def forward(self, x):\n",
        "        embedded = self.embedding(x)\n",
        "        output, hidden = self.gru(embedded)\n",
        "        return self.fc(hidden[-1])"
      ],
      "metadata": {
        "id": "fAle3v1wXco7"
      },
      "execution_count": 18,
      "outputs": []
    },
    {
      "cell_type": "code",
      "source": [
        "model = StackedGRUWithDropout(\n",
        "    vocab_size=len(word2idx),\n",
        "    embedding_dim=128,\n",
        "    hidden_dim=64,\n",
        "    output_dim=2,\n",
        "    padding_idx=word2idx[\"<PAD>\"]\n",
        ").to(device)\n",
        "\n",
        "criterion = nn.CrossEntropyLoss()\n",
        "optimizer = torch.optim.Adam(model.parameters(), lr=0.001)\n",
        "\n",
        "print(\"✅ Dropout GRU 준비 완료\")"
      ],
      "metadata": {
        "colab": {
          "base_uri": "https://localhost:8080/"
        },
        "id": "uR9ofLZeYICI",
        "outputId": "a3e0b603-4901-401e-e4cd-c94047b6c775"
      },
      "execution_count": 19,
      "outputs": [
        {
          "output_type": "stream",
          "name": "stdout",
          "text": [
            "✅ Dropout GRU 준비 완료\n"
          ]
        }
      ]
    },
    {
      "cell_type": "code",
      "source": [
        "# 학습 루프\n",
        "EPOCHS = 5\n",
        "\n",
        "for epoch in range(EPOCHS):\n",
        "    model.train()\n",
        "    total_loss = 0\n",
        "\n",
        "    for X_batch, y_batch in train_loader:\n",
        "        X_batch, y_batch = X_batch.to(device), y_batch.to(device)\n",
        "        optimizer.zero_grad()\n",
        "        preds = model(X_batch)\n",
        "        loss = criterion(preds, y_batch)\n",
        "        loss.backward()\n",
        "        optimizer.step()\n",
        "        total_loss += loss.item()\n",
        "\n",
        "    print(f\"🟢 Epoch {epoch+1}/{EPOCHS} | Loss: {total_loss:.4f}\")"
      ],
      "metadata": {
        "colab": {
          "base_uri": "https://localhost:8080/"
        },
        "id": "IrRlnlIrYMzc",
        "outputId": "d496e7bf-b249-4709-c161-c456153611b2"
      },
      "execution_count": 20,
      "outputs": [
        {
          "output_type": "stream",
          "name": "stdout",
          "text": [
            "🟢 Epoch 1/5 | Loss: 12.9626\n",
            "🟢 Epoch 2/5 | Loss: 9.7716\n",
            "🟢 Epoch 3/5 | Loss: 8.8441\n",
            "🟢 Epoch 4/5 | Loss: 7.5597\n",
            "🟢 Epoch 5/5 | Loss: 8.3545\n"
          ]
        }
      ]
    },
    {
      "cell_type": "code",
      "source": [
        "# 평가\n",
        "model.eval()\n",
        "correct = 0\n",
        "total = 0\n",
        "\n",
        "with torch.no_grad():\n",
        "    for X_batch, y_batch in test_loader:\n",
        "        X_batch, y_batch = X_batch.to(device), y_batch.to(device)\n",
        "        preds = model(X_batch)\n",
        "        predicted = torch.argmax(preds, dim=1)\n",
        "        correct += (predicted == y_batch).sum().item()\n",
        "        total += y_batch.size(0)\n",
        "\n",
        "accuracy = correct / total\n",
        "print(f\"\\n✅ 테스트 정확도: {accuracy:.4f}\")"
      ],
      "metadata": {
        "colab": {
          "base_uri": "https://localhost:8080/"
        },
        "id": "VJWVBaI-YRRX",
        "outputId": "44d757d1-da19-4d3d-f21f-64091cd73aab"
      },
      "execution_count": 21,
      "outputs": [
        {
          "output_type": "stream",
          "name": "stdout",
          "text": [
            "\n",
            "✅ 테스트 정확도: 0.7799\n"
          ]
        }
      ]
    },
    {
      "cell_type": "code",
      "source": [
        "class Attention(nn.Module):\n",
        "    def __init__(self, hidden_dim):\n",
        "        super().__init__()\n",
        "        self.attn = nn.Linear(hidden_dim, 1)\n",
        "\n",
        "    def forward(self, gru_output):\n",
        "        # gru_output: (batch_size, seq_len, hidden_dim)\n",
        "        attn_weights = torch.softmax(self.attn(gru_output), dim=1)  # (batch, seq_len, 1)\n",
        "        context = torch.sum(attn_weights * gru_output, dim=1)       # (batch, hidden_dim)\n",
        "        return context"
      ],
      "metadata": {
        "id": "Cb6LTakFYUON"
      },
      "execution_count": 22,
      "outputs": []
    },
    {
      "cell_type": "code",
      "source": [
        "class AttentionGRUClassifier(nn.Module):\n",
        "    def __init__(self, vocab_size, embedding_dim, hidden_dim, output_dim, padding_idx):\n",
        "        super().__init__()\n",
        "        self.embedding = nn.Embedding(vocab_size, embedding_dim, padding_idx=padding_idx)\n",
        "        self.gru = nn.GRU(embedding_dim, hidden_dim, batch_first=True)\n",
        "        self.attention = Attention(hidden_dim)\n",
        "        self.fc = nn.Linear(hidden_dim, output_dim)\n",
        "\n",
        "    def forward(self, x):\n",
        "        embedded = self.embedding(x)                     # (batch, seq_len, embed_dim)\n",
        "        output, hidden = self.gru(embedded)              # output: (batch, seq_len, hidden_dim)\n",
        "        context = self.attention(output)                 # context: (batch, hidden_dim)\n",
        "        return self.fc(context)\n"
      ],
      "metadata": {
        "id": "BTd9LiGFfFL6"
      },
      "execution_count": 23,
      "outputs": []
    },
    {
      "cell_type": "code",
      "source": [
        "model = AttentionGRUClassifier(\n",
        "    vocab_size=len(word2idx),\n",
        "    embedding_dim=128,\n",
        "    hidden_dim=64,\n",
        "    output_dim=2,\n",
        "    padding_idx=word2idx[\"<PAD>\"]\n",
        ").to(device)\n",
        "\n",
        "criterion = nn.CrossEntropyLoss()\n",
        "optimizer = torch.optim.Adam(model.parameters(), lr=0.001)\n",
        "\n",
        "print(\"✅ Attention-GRU 준비 완료\")\n"
      ],
      "metadata": {
        "colab": {
          "base_uri": "https://localhost:8080/"
        },
        "id": "acQdnPscfIq8",
        "outputId": "063bd301-4293-4a80-eb53-08785d7fee0d"
      },
      "execution_count": 24,
      "outputs": [
        {
          "output_type": "stream",
          "name": "stdout",
          "text": [
            "✅ Attention-GRU 준비 완료\n"
          ]
        }
      ]
    },
    {
      "cell_type": "code",
      "source": [
        "# 학습 루프\n",
        "EPOCHS = 5\n",
        "\n",
        "for epoch in range(EPOCHS):\n",
        "    model.train()\n",
        "    total_loss = 0\n",
        "\n",
        "    for X_batch, y_batch in train_loader:\n",
        "        X_batch, y_batch = X_batch.to(device), y_batch.to(device)\n",
        "        optimizer.zero_grad()\n",
        "        preds = model(X_batch)\n",
        "        loss = criterion(preds, y_batch)\n",
        "        loss.backward()\n",
        "        optimizer.step()\n",
        "        total_loss += loss.item()\n",
        "\n",
        "    print(f\"🟢 Epoch {epoch+1}/{EPOCHS} | Loss: {total_loss:.4f}\")"
      ],
      "metadata": {
        "colab": {
          "base_uri": "https://localhost:8080/"
        },
        "id": "6kLyHaKYfMDt",
        "outputId": "08ed904d-08e8-4154-a903-21931cec1a31"
      },
      "execution_count": 25,
      "outputs": [
        {
          "output_type": "stream",
          "name": "stdout",
          "text": [
            "🟢 Epoch 1/5 | Loss: 12.4857\n",
            "🟢 Epoch 2/5 | Loss: 7.4521\n",
            "🟢 Epoch 3/5 | Loss: 3.1520\n",
            "🟢 Epoch 4/5 | Loss: 1.7861\n",
            "🟢 Epoch 5/5 | Loss: 0.9836\n"
          ]
        }
      ]
    },
    {
      "cell_type": "code",
      "source": [
        "# 평가\n",
        "model.eval()\n",
        "correct = 0\n",
        "total = 0\n",
        "\n",
        "with torch.no_grad():\n",
        "    for X_batch, y_batch in test_loader:\n",
        "        X_batch, y_batch = X_batch.to(device), y_batch.to(device)\n",
        "        preds = model(X_batch)\n",
        "        predicted = torch.argmax(preds, dim=1)\n",
        "        correct += (predicted == y_batch).sum().item()\n",
        "        total += y_batch.size(0)\n",
        "\n",
        "accuracy = correct / total\n",
        "print(f\"\\n✅ 테스트 정확도: {accuracy:.4f}\")"
      ],
      "metadata": {
        "colab": {
          "base_uri": "https://localhost:8080/"
        },
        "id": "f1GZ1L37fO1c",
        "outputId": "11cc7cd7-546d-43d8-8529-f39546d6783b"
      },
      "execution_count": 26,
      "outputs": [
        {
          "output_type": "stream",
          "name": "stdout",
          "text": [
            "\n",
            "✅ 테스트 정확도: 0.9623\n"
          ]
        }
      ]
    },
    {
      "cell_type": "code",
      "source": [],
      "metadata": {
        "id": "rh5thgNdfQpL"
      },
      "execution_count": 27,
      "outputs": []
    },
    {
      "cell_type": "code",
      "source": [
        "from sklearn.metrics import confusion_matrix, classification_report\n",
        "import seaborn as sns\n",
        "import matplotlib.pyplot as plt\n",
        "import numpy as np"
      ],
      "metadata": {
        "id": "M_GwPM-CiAVX"
      },
      "execution_count": 28,
      "outputs": []
    },
    {
      "cell_type": "code",
      "source": [
        "model.eval()\n",
        "y_true = []\n",
        "y_pred = []\n",
        "\n",
        "with torch.no_grad():\n",
        "    for X_batch, y_batch in test_loader:\n",
        "        X_batch = X_batch.to(device)\n",
        "        y_batch = y_batch.to(device)\n",
        "        outputs = model(X_batch)\n",
        "        predicted = torch.argmax(outputs, dim=1)\n",
        "        y_true.extend(y_batch.cpu().numpy())\n",
        "        y_pred.extend(predicted.cpu().numpy())\n",
        "\n",
        "# ① 정확도\n",
        "accuracy = np.mean(np.array(y_true) == np.array(y_pred))\n",
        "print(f\"\\n✅ 테스트 정확도: {accuracy:.4f}\")\n",
        "\n",
        "# ② Confusion Matrix 시각화\n",
        "cm = confusion_matrix(y_true, y_pred)\n",
        "plt.figure(figsize=(6,5))\n",
        "sns.heatmap(cm, annot=True, fmt='d', cmap='Blues')\n",
        "plt.xlabel('Predicted Label')\n",
        "plt.ylabel('True Label')\n",
        "plt.title('Confusion Matrix')\n",
        "plt.show()\n",
        "\n",
        "# ③ Precision / Recall / F1-score\n",
        "print(\"\\n📊 Classification Report:\")\n",
        "print(classification_report(y_true, y_pred, digits=4))\n"
      ],
      "metadata": {
        "colab": {
          "base_uri": "https://localhost:8080/",
          "height": 713
        },
        "id": "4SF0mRTFj-tl",
        "outputId": "5de48ee0-89a8-46f0-858a-b7c1d3e87f1b"
      },
      "execution_count": 29,
      "outputs": [
        {
          "output_type": "stream",
          "name": "stdout",
          "text": [
            "\n",
            "✅ 테스트 정확도: 0.9623\n"
          ]
        },
        {
          "output_type": "display_data",
          "data": {
            "text/plain": [
              "<Figure size 600x500 with 2 Axes>"
            ],
            "image/png": "[encoded data removed]"
          },
          "metadata": {}
        },
        {
          "output_type": "stream",
          "name": "stdout",
          "text": [
            "\n",
            "📊 Classification Report:\n",
            "              precision    recall  f1-score   support\n",
            "\n",
            "           0     0.9595    0.9595    0.9595        74\n",
            "           1     0.9647    0.9647    0.9647        85\n",
            "\n",
            "    accuracy                         0.9623       159\n",
            "   macro avg     0.9621    0.9621    0.9621       159\n",
            "weighted avg     0.9623    0.9623    0.9623       159\n",
            "\n"
          ]
        }
      ]
    },
    {
      "cell_type": "code",
      "source": [
        "import matplotlib.pyplot as plt\n",
        "plt.rcParams['font.family'] = 'NanumGothic'  # or 'Malgun Gothic' (Windows) / 'AppleGothic' (Mac)\n",
        "plt.rc(\"font\", family=\"NanumGothic\")\n",
        "plt.rc(\"axes\", unicode_minus=False)"
      ],
      "metadata": {
        "id": "VBE8PfrHtz06"
      },
      "execution_count": 40,
      "outputs": []
    },
    {
      "cell_type": "code",
      "source": [
        "from collections import defaultdict\n",
        "import numpy as np\n",
        "from tqdm import tqdm\n",
        "\n",
        "# 단어별 attention 누적 dict\n",
        "token_weights = defaultdict(list)\n",
        "\n",
        "model.eval()\n",
        "with torch.no_grad():\n",
        "    for X_batch, y_batch in tqdm(test_loader):\n",
        "        X_batch = X_batch.to(device)\n",
        "\n",
        "        embedded = model.embedding(X_batch)                      # (batch, seq_len, embed)\n",
        "        output, hidden = model.gru(embedded)                     # (batch, seq_len, hidden)\n",
        "        attn_scores = torch.softmax(model.attention.attn(output), dim=1)  # (batch, seq_len, 1)\n",
        "        attn_scores = attn_scores.squeeze(-1).cpu().numpy()     # (batch, seq_len)\n",
        "\n",
        "        X_batch_cpu = X_batch.cpu().numpy()\n",
        "        for sentence, scores in zip(X_batch_cpu, attn_scores):\n",
        "            for token_id, score in zip(sentence, scores):\n",
        "                if token_id == word2idx[\"<PAD>\"]:\n",
        "                    continue\n",
        "                word = [k for k, v in word2idx.items() if v == token_id][0]\n",
        "                token_weights[word].append(score)\n",
        "\n",
        "# 단어별 평균 attention score 계산\n",
        "avg_weights = {word: np.mean(scores) for word, scores in token_weights.items()}\n",
        "sorted_weights = sorted(avg_weights.items(), key=lambda x: x[1], reverse=True)\n",
        "\n",
        "# 상위 20개 단어 출력 및 시각화\n",
        "top_words = sorted_weights[:20]\n",
        "words, scores = zip(*top_words)\n",
        "\n",
        "plt.figure(figsize=(12, 5))\n",
        "plt.bar(words, scores, color='orange')\n",
        "plt.title(\"📌 Attention-GRU: Top 20 Most Attended Tokens\")\n",
        "plt.ylabel(\"Average Attention Score\")\n",
        "plt.xticks(rotation=45)\n",
        "plt.tight_layout()\n",
        "plt.grid(axis='y', linestyle='--', alpha=0.6)\n",
        "plt.show()\n"
      ],
      "metadata": {
        "colab": {
          "base_uri": "https://localhost:8080/",
          "height": 1000
        },
        "id": "uN8oQELkkBET",
        "outputId": "00a5171a-da2f-4d39-c714-dc4bcebda93f"
      },
      "execution_count": 41,
      "outputs": [
        {
          "output_type": "stream",
          "name": "stderr",
          "text": [
            "100%|██████████| 5/5 [03:36<00:00, 43.39s/it]\n",
            "WARNING:matplotlib.font_manager:findfont: Font family 'NanumGothic' not found.\n",
            "WARNING:matplotlib.font_manager:findfont: Font family 'NanumGothic' not found.\n",
            "/tmp/ipython-input-2337406692.py:39: UserWarning: Glyph 51452 (\\N{HANGUL SYLLABLE JU}) missing from font(s) DejaVu Sans.\n",
            "  plt.tight_layout()\n",
            "/tmp/ipython-input-2337406692.py:39: UserWarning: Glyph 53469 (\\N{HANGUL SYLLABLE TAEG}) missing from font(s) DejaVu Sans.\n",
            "  plt.tight_layout()\n",
            "/tmp/ipython-input-2337406692.py:39: UserWarning: Glyph 51008 (\\N{HANGUL SYLLABLE EUN}) missing from font(s) DejaVu Sans.\n",
            "  plt.tight_layout()\n",
            "WARNING:matplotlib.font_manager:findfont: Font family 'NanumGothic' not found.\n",
            "/tmp/ipython-input-2337406692.py:39: UserWarning: Glyph 51064 (\\N{HANGUL SYLLABLE IN}) missing from font(s) DejaVu Sans.\n",
            "  plt.tight_layout()\n",
            "/tmp/ipython-input-2337406692.py:39: UserWarning: Glyph 45824 (\\N{HANGUL SYLLABLE DAE}) missing from font(s) DejaVu Sans.\n",
            "  plt.tight_layout()\n",
            "/tmp/ipython-input-2337406692.py:39: UserWarning: Glyph 54616 (\\N{HANGUL SYLLABLE HA}) missing from font(s) DejaVu Sans.\n",
            "  plt.tight_layout()\n",
            "/tmp/ipython-input-2337406692.py:39: UserWarning: Glyph 47140 (\\N{HANGUL SYLLABLE RYEO}) missing from font(s) DejaVu Sans.\n",
            "  plt.tight_layout()\n",
            "/tmp/ipython-input-2337406692.py:39: UserWarning: Glyph 44256 (\\N{HANGUL SYLLABLE GO}) missing from font(s) DejaVu Sans.\n",
            "  plt.tight_layout()\n",
            "WARNING:matplotlib.font_manager:findfont: Font family 'NanumGothic' not found.\n",
            "/tmp/ipython-input-2337406692.py:39: UserWarning: Glyph 52292 (\\N{HANGUL SYLLABLE CAE}) missing from font(s) DejaVu Sans.\n",
            "  plt.tight_layout()\n",
            "WARNING:matplotlib.font_manager:findfont: Font family 'NanumGothic' not found.\n",
            "/tmp/ipython-input-2337406692.py:39: UserWarning: Glyph 50500 (\\N{HANGUL SYLLABLE A}) missing from font(s) DejaVu Sans.\n",
            "  plt.tight_layout()\n",
            "/tmp/ipython-input-2337406692.py:39: UserWarning: Glyph 51060 (\\N{HANGUL SYLLABLE I}) missing from font(s) DejaVu Sans.\n",
            "  plt.tight_layout()\n",
            "WARNING:matplotlib.font_manager:findfont: Font family 'NanumGothic' not found.\n",
            "/tmp/ipython-input-2337406692.py:39: UserWarning: Glyph 49324 (\\N{HANGUL SYLLABLE SA}) missing from font(s) DejaVu Sans.\n",
            "  plt.tight_layout()\n",
            "/tmp/ipython-input-2337406692.py:39: UserWarning: Glyph 46988 (\\N{HANGUL SYLLABLE RAM}) missing from font(s) DejaVu Sans.\n",
            "  plt.tight_layout()\n",
            "/tmp/ipython-input-2337406692.py:39: UserWarning: Glyph 50836 (\\N{HANGUL SYLLABLE YO}) missing from font(s) DejaVu Sans.\n",
            "  plt.tight_layout()\n",
            "WARNING:matplotlib.font_manager:findfont: Font family 'NanumGothic' not found.\n",
            "/tmp/ipython-input-2337406692.py:39: UserWarning: Glyph 51648 (\\N{HANGUL SYLLABLE JI}) missing from font(s) DejaVu Sans.\n",
            "  plt.tight_layout()\n",
            "/tmp/ipython-input-2337406692.py:39: UserWarning: Glyph 50669 (\\N{HANGUL SYLLABLE YEOG}) missing from font(s) DejaVu Sans.\n",
            "  plt.tight_layout()\n",
            "/tmp/ipython-input-2337406692.py:39: UserWarning: Glyph 50640 (\\N{HANGUL SYLLABLE E}) missing from font(s) DejaVu Sans.\n",
            "  plt.tight_layout()\n",
            "/tmp/ipython-input-2337406692.py:39: UserWarning: Glyph 49436 (\\N{HANGUL SYLLABLE SEO}) missing from font(s) DejaVu Sans.\n",
            "  plt.tight_layout()\n",
            "WARNING:matplotlib.font_manager:findfont: Font family 'NanumGothic' not found.\n",
            "/tmp/ipython-input-2337406692.py:39: UserWarning: Glyph 44263 (\\N{HANGUL SYLLABLE GOD}) missing from font(s) DejaVu Sans.\n",
            "  plt.tight_layout()\n",
            "WARNING:matplotlib.font_manager:findfont: Font family 'NanumGothic' not found.\n",
            "/tmp/ipython-input-2337406692.py:39: UserWarning: Glyph 54869 (\\N{HANGUL SYLLABLE HWAG}) missing from font(s) DejaVu Sans.\n",
            "  plt.tight_layout()\n",
            "/tmp/ipython-input-2337406692.py:39: UserWarning: Glyph 51088 (\\N{HANGUL SYLLABLE JA}) missing from font(s) DejaVu Sans.\n",
            "  plt.tight_layout()\n",
            "/tmp/ipython-input-2337406692.py:39: UserWarning: Glyph 50984 (\\N{HANGUL SYLLABLE YUL}) missing from font(s) DejaVu Sans.\n",
            "  plt.tight_layout()\n",
            "/tmp/ipython-input-2337406692.py:39: UserWarning: Glyph 44032 (\\N{HANGUL SYLLABLE GA}) missing from font(s) DejaVu Sans.\n",
            "  plt.tight_layout()\n",
            "WARNING:matplotlib.font_manager:findfont: Font family 'NanumGothic' not found.\n",
            "/tmp/ipython-input-2337406692.py:39: UserWarning: Glyph 50629 (\\N{HANGUL SYLLABLE EOB}) missing from font(s) DejaVu Sans.\n",
            "  plt.tight_layout()\n",
            "/tmp/ipython-input-2337406692.py:39: UserWarning: Glyph 47924 (\\N{HANGUL SYLLABLE MU}) missing from font(s) DejaVu Sans.\n",
            "  plt.tight_layout()\n",
            "WARNING:matplotlib.font_manager:findfont: Font family 'NanumGothic' not found.\n",
            "/tmp/ipython-input-2337406692.py:39: UserWarning: Glyph 51068 (\\N{HANGUL SYLLABLE IL}) missing from font(s) DejaVu Sans.\n",
            "  plt.tight_layout()\n",
            "/tmp/ipython-input-2337406692.py:39: UserWarning: Glyph 45716 (\\N{HANGUL SYLLABLE NEUN}) missing from font(s) DejaVu Sans.\n",
            "  plt.tight_layout()\n",
            "WARNING:matplotlib.font_manager:findfont: Font family 'NanumGothic' not found.\n",
            "/tmp/ipython-input-2337406692.py:39: UserWarning: Glyph 51228 (\\N{HANGUL SYLLABLE JE}) missing from font(s) DejaVu Sans.\n",
            "  plt.tight_layout()\n",
            "WARNING:matplotlib.font_manager:findfont: Font family 'NanumGothic' not found.\n",
            "/tmp/ipython-input-2337406692.py:39: UserWarning: Glyph 52380 (\\N{HANGUL SYLLABLE CEON}) missing from font(s) DejaVu Sans.\n",
            "  plt.tight_layout()\n",
            "/tmp/ipython-input-2337406692.py:39: UserWarning: Glyph 50504 (\\N{HANGUL SYLLABLE AN}) missing from font(s) DejaVu Sans.\n",
            "  plt.tight_layout()\n",
            "WARNING:matplotlib.font_manager:findfont: Font family 'NanumGothic' not found.\n",
            "/tmp/ipython-input-2337406692.py:39: UserWarning: Glyph 44596 (\\N{HANGUL SYLLABLE GIN}) missing from font(s) DejaVu Sans.\n",
            "  plt.tight_layout()\n",
            "WARNING:matplotlib.font_manager:findfont: Font family 'NanumGothic' not found.\n",
            "/tmp/ipython-input-2337406692.py:39: UserWarning: Glyph 51201 (\\N{HANGUL SYLLABLE JEOG}) missing from font(s) DejaVu Sans.\n",
            "  plt.tight_layout()\n",
            "/tmp/ipython-input-2337406692.py:39: UserWarning: Glyph 55180 (\\N{HANGUL SYLLABLE HIN}) missing from font(s) DejaVu Sans.\n",
            "  plt.tight_layout()\n",
            "WARNING:matplotlib.font_manager:findfont: Font family 'NanumGothic' not found.\n",
            "/tmp/ipython-input-2337406692.py:39: UserWarning: Glyph 44228 (\\N{HANGUL SYLLABLE GYE}) missing from font(s) DejaVu Sans.\n",
            "  plt.tight_layout()\n",
            "/tmp/ipython-input-2337406692.py:39: UserWarning: Glyph 49888 (\\N{HANGUL SYLLABLE SIN}) missing from font(s) DejaVu Sans.\n",
            "  plt.tight_layout()\n",
            "WARNING:matplotlib.font_manager:findfont: Font family 'NanumGothic' not found.\n",
            "/tmp/ipython-input-2337406692.py:39: UserWarning: Glyph 46321 (\\N{HANGUL SYLLABLE DEUNG}) missing from font(s) DejaVu Sans.\n",
            "  plt.tight_layout()\n",
            "/tmp/ipython-input-2337406692.py:39: UserWarning: Glyph 47197 (\\N{HANGUL SYLLABLE ROG}) missing from font(s) DejaVu Sans.\n",
            "  plt.tight_layout()\n",
            "/tmp/ipython-input-2337406692.py:39: UserWarning: Glyph 51613 (\\N{HANGUL SYLLABLE JEUNG}) missing from font(s) DejaVu Sans.\n",
            "  plt.tight_layout()\n",
            "WARNING:matplotlib.font_manager:findfont: Font family 'NanumGothic' not found.\n",
            "/tmp/ipython-input-2337406692.py:39: UserWarning: Glyph 49464 (\\N{HANGUL SYLLABLE SE}) missing from font(s) DejaVu Sans.\n",
            "  plt.tight_layout()\n",
            "/tmp/ipython-input-2337406692.py:39: UserWarning: Glyph 47484 (\\N{HANGUL SYLLABLE REUL}) missing from font(s) DejaVu Sans.\n",
            "  plt.tight_layout()\n",
            "WARNING:matplotlib.font_manager:findfont: Font family 'NanumGothic' not found.\n",
            "/tmp/ipython-input-2337406692.py:39: UserWarning: Glyph 48120 (\\N{HANGUL SYLLABLE MI}) missing from font(s) DejaVu Sans.\n",
            "  plt.tight_layout()\n",
            "/tmp/ipython-input-2337406692.py:39: UserWarning: Glyph 52824 (\\N{HANGUL SYLLABLE CI}) missing from font(s) DejaVu Sans.\n",
            "  plt.tight_layout()\n",
            "/tmp/ipython-input-2337406692.py:39: UserWarning: Glyph 44172 (\\N{HANGUL SYLLABLE GE}) missing from font(s) DejaVu Sans.\n",
            "  plt.tight_layout()\n",
            "WARNING:matplotlib.font_manager:findfont: Font family 'NanumGothic' not found.\n",
            "/tmp/ipython-input-2337406692.py:39: UserWarning: Glyph 44608 (\\N{HANGUL SYLLABLE GIM}) missing from font(s) DejaVu Sans.\n",
            "  plt.tight_layout()\n",
            "/tmp/ipython-input-2337406692.py:39: UserWarning: Glyph 50896 (\\N{HANGUL SYLLABLE WEON}) missing from font(s) DejaVu Sans.\n",
            "  plt.tight_layout()\n",
            "WARNING:matplotlib.font_manager:findfont: Font family 'NanumGothic' not found.\n",
            "/tmp/ipython-input-2337406692.py:39: UserWarning: Glyph 45734 (\\N{HANGUL SYLLABLE NEUJ}) missing from font(s) DejaVu Sans.\n",
            "  plt.tight_layout()\n",
            "/tmp/ipython-input-2337406692.py:39: UserWarning: Glyph 50612 (\\N{HANGUL SYLLABLE EO}) missing from font(s) DejaVu Sans.\n",
            "  plt.tight_layout()\n",
            "/tmp/ipython-input-2337406692.py:39: UserWarning: Glyph 51276 (\\N{HANGUL SYLLABLE JYEOSS}) missing from font(s) DejaVu Sans.\n",
            "  plt.tight_layout()\n",
            "WARNING:matplotlib.font_manager:findfont: Font family 'NanumGothic' not found.\n",
            "WARNING:matplotlib.font_manager:findfont: Font family 'NanumGothic' not found.\n",
            "WARNING:matplotlib.font_manager:findfont: Font family 'NanumGothic' not found.\n",
            "WARNING:matplotlib.font_manager:findfont: Font family 'NanumGothic' not found.\n",
            "WARNING:matplotlib.font_manager:findfont: Font family 'NanumGothic' not found.\n",
            "WARNING:matplotlib.font_manager:findfont: Font family 'NanumGothic' not found.\n",
            "WARNING:matplotlib.font_manager:findfont: Font family 'NanumGothic' not found.\n",
            "WARNING:matplotlib.font_manager:findfont: Font family 'NanumGothic' not found.\n",
            "WARNING:matplotlib.font_manager:findfont: Font family 'NanumGothic' not found.\n",
            "WARNING:matplotlib.font_manager:findfont: Font family 'NanumGothic' not found.\n",
            "WARNING:matplotlib.font_manager:findfont: Font family 'NanumGothic' not found.\n",
            "/tmp/ipython-input-2337406692.py:39: UserWarning: Glyph 128204 (\\N{PUSHPIN}) missing from font(s) DejaVu Sans.\n",
            "  plt.tight_layout()\n",
            "WARNING:matplotlib.font_manager:findfont: Font family 'NanumGothic' not found.\n",
            "WARNING:matplotlib.font_manager:findfont: Font family 'NanumGothic' not found.\n",
            "WARNING:matplotlib.font_manager:findfont: Font family 'NanumGothic' not found.\n",
            "WARNING:matplotlib.font_manager:findfont: Font family 'NanumGothic' not found.\n",
            "WARNING:matplotlib.font_manager:findfont: Font family 'NanumGothic' not found.\n",
            "WARNING:matplotlib.font_manager:findfont: Font family 'NanumGothic' not found.\n",
            "WARNING:matplotlib.font_manager:findfont: Font family 'NanumGothic' not found.\n",
            "WARNING:matplotlib.font_manager:findfont: Font family 'NanumGothic' not found.\n",
            "WARNING:matplotlib.font_manager:findfont: Font family 'NanumGothic' not found.\n",
            "WARNING:matplotlib.font_manager:findfont: Font family 'NanumGothic' not found.\n",
            "WARNING:matplotlib.font_manager:findfont: Font family 'NanumGothic' not found.\n",
            "WARNING:matplotlib.font_manager:findfont: Font family 'NanumGothic' not found.\n",
            "/usr/local/lib/python3.11/dist-packages/IPython/core/pylabtools.py:151: UserWarning: Glyph 128204 (\\N{PUSHPIN}) missing from font(s) DejaVu Sans.\n",
            "  fig.canvas.print_figure(bytes_io, **kw)\n",
            "WARNING:matplotlib.font_manager:findfont: Font family 'NanumGothic' not found.\n",
            "/usr/local/lib/python3.11/dist-packages/IPython/core/pylabtools.py:151: UserWarning: Glyph 51452 (\\N{HANGUL SYLLABLE JU}) missing from font(s) DejaVu Sans.\n",
            "  fig.canvas.print_figure(bytes_io, **kw)\n",
            "/usr/local/lib/python3.11/dist-packages/IPython/core/pylabtools.py:151: UserWarning: Glyph 53469 (\\N{HANGUL SYLLABLE TAEG}) missing from font(s) DejaVu Sans.\n",
            "  fig.canvas.print_figure(bytes_io, **kw)\n",
            "/usr/local/lib/python3.11/dist-packages/IPython/core/pylabtools.py:151: UserWarning: Glyph 51008 (\\N{HANGUL SYLLABLE EUN}) missing from font(s) DejaVu Sans.\n",
            "  fig.canvas.print_figure(bytes_io, **kw)\n",
            "WARNING:matplotlib.font_manager:findfont: Font family 'NanumGothic' not found.\n",
            "/usr/local/lib/python3.11/dist-packages/IPython/core/pylabtools.py:151: UserWarning: Glyph 51064 (\\N{HANGUL SYLLABLE IN}) missing from font(s) DejaVu Sans.\n",
            "  fig.canvas.print_figure(bytes_io, **kw)\n",
            "/usr/local/lib/python3.11/dist-packages/IPython/core/pylabtools.py:151: UserWarning: Glyph 45824 (\\N{HANGUL SYLLABLE DAE}) missing from font(s) DejaVu Sans.\n",
            "  fig.canvas.print_figure(bytes_io, **kw)\n",
            "/usr/local/lib/python3.11/dist-packages/IPython/core/pylabtools.py:151: UserWarning: Glyph 54616 (\\N{HANGUL SYLLABLE HA}) missing from font(s) DejaVu Sans.\n",
            "  fig.canvas.print_figure(bytes_io, **kw)\n",
            "/usr/local/lib/python3.11/dist-packages/IPython/core/pylabtools.py:151: UserWarning: Glyph 47140 (\\N{HANGUL SYLLABLE RYEO}) missing from font(s) DejaVu Sans.\n",
            "  fig.canvas.print_figure(bytes_io, **kw)\n",
            "/usr/local/lib/python3.11/dist-packages/IPython/core/pylabtools.py:151: UserWarning: Glyph 44256 (\\N{HANGUL SYLLABLE GO}) missing from font(s) DejaVu Sans.\n",
            "  fig.canvas.print_figure(bytes_io, **kw)\n",
            "WARNING:matplotlib.font_manager:findfont: Font family 'NanumGothic' not found.\n",
            "/usr/local/lib/python3.11/dist-packages/IPython/core/pylabtools.py:151: UserWarning: Glyph 52292 (\\N{HANGUL SYLLABLE CAE}) missing from font(s) DejaVu Sans.\n",
            "  fig.canvas.print_figure(bytes_io, **kw)\n",
            "WARNING:matplotlib.font_manager:findfont: Font family 'NanumGothic' not found.\n",
            "/usr/local/lib/python3.11/dist-packages/IPython/core/pylabtools.py:151: UserWarning: Glyph 50500 (\\N{HANGUL SYLLABLE A}) missing from font(s) DejaVu Sans.\n",
            "  fig.canvas.print_figure(bytes_io, **kw)\n",
            "/usr/local/lib/python3.11/dist-packages/IPython/core/pylabtools.py:151: UserWarning: Glyph 51060 (\\N{HANGUL SYLLABLE I}) missing from font(s) DejaVu Sans.\n",
            "  fig.canvas.print_figure(bytes_io, **kw)\n",
            "WARNING:matplotlib.font_manager:findfont: Font family 'NanumGothic' not found.\n",
            "/usr/local/lib/python3.11/dist-packages/IPython/core/pylabtools.py:151: UserWarning: Glyph 49324 (\\N{HANGUL SYLLABLE SA}) missing from font(s) DejaVu Sans.\n",
            "  fig.canvas.print_figure(bytes_io, **kw)\n",
            "/usr/local/lib/python3.11/dist-packages/IPython/core/pylabtools.py:151: UserWarning: Glyph 46988 (\\N{HANGUL SYLLABLE RAM}) missing from font(s) DejaVu Sans.\n",
            "  fig.canvas.print_figure(bytes_io, **kw)\n",
            "/usr/local/lib/python3.11/dist-packages/IPython/core/pylabtools.py:151: UserWarning: Glyph 50836 (\\N{HANGUL SYLLABLE YO}) missing from font(s) DejaVu Sans.\n",
            "  fig.canvas.print_figure(bytes_io, **kw)\n",
            "WARNING:matplotlib.font_manager:findfont: Font family 'NanumGothic' not found.\n",
            "/usr/local/lib/python3.11/dist-packages/IPython/core/pylabtools.py:151: UserWarning: Glyph 51648 (\\N{HANGUL SYLLABLE JI}) missing from font(s) DejaVu Sans.\n",
            "  fig.canvas.print_figure(bytes_io, **kw)\n",
            "/usr/local/lib/python3.11/dist-packages/IPython/core/pylabtools.py:151: UserWarning: Glyph 50669 (\\N{HANGUL SYLLABLE YEOG}) missing from font(s) DejaVu Sans.\n",
            "  fig.canvas.print_figure(bytes_io, **kw)\n",
            "/usr/local/lib/python3.11/dist-packages/IPython/core/pylabtools.py:151: UserWarning: Glyph 50640 (\\N{HANGUL SYLLABLE E}) missing from font(s) DejaVu Sans.\n",
            "  fig.canvas.print_figure(bytes_io, **kw)\n",
            "/usr/local/lib/python3.11/dist-packages/IPython/core/pylabtools.py:151: UserWarning: Glyph 49436 (\\N{HANGUL SYLLABLE SEO}) missing from font(s) DejaVu Sans.\n",
            "  fig.canvas.print_figure(bytes_io, **kw)\n",
            "WARNING:matplotlib.font_manager:findfont: Font family 'NanumGothic' not found.\n",
            "/usr/local/lib/python3.11/dist-packages/IPython/core/pylabtools.py:151: UserWarning: Glyph 44263 (\\N{HANGUL SYLLABLE GOD}) missing from font(s) DejaVu Sans.\n",
            "  fig.canvas.print_figure(bytes_io, **kw)\n",
            "WARNING:matplotlib.font_manager:findfont: Font family 'NanumGothic' not found.\n",
            "/usr/local/lib/python3.11/dist-packages/IPython/core/pylabtools.py:151: UserWarning: Glyph 54869 (\\N{HANGUL SYLLABLE HWAG}) missing from font(s) DejaVu Sans.\n",
            "  fig.canvas.print_figure(bytes_io, **kw)\n",
            "/usr/local/lib/python3.11/dist-packages/IPython/core/pylabtools.py:151: UserWarning: Glyph 51088 (\\N{HANGUL SYLLABLE JA}) missing from font(s) DejaVu Sans.\n",
            "  fig.canvas.print_figure(bytes_io, **kw)\n",
            "/usr/local/lib/python3.11/dist-packages/IPython/core/pylabtools.py:151: UserWarning: Glyph 50984 (\\N{HANGUL SYLLABLE YUL}) missing from font(s) DejaVu Sans.\n",
            "  fig.canvas.print_figure(bytes_io, **kw)\n",
            "/usr/local/lib/python3.11/dist-packages/IPython/core/pylabtools.py:151: UserWarning: Glyph 44032 (\\N{HANGUL SYLLABLE GA}) missing from font(s) DejaVu Sans.\n",
            "  fig.canvas.print_figure(bytes_io, **kw)\n",
            "WARNING:matplotlib.font_manager:findfont: Font family 'NanumGothic' not found.\n",
            "/usr/local/lib/python3.11/dist-packages/IPython/core/pylabtools.py:151: UserWarning: Glyph 50629 (\\N{HANGUL SYLLABLE EOB}) missing from font(s) DejaVu Sans.\n",
            "  fig.canvas.print_figure(bytes_io, **kw)\n",
            "/usr/local/lib/python3.11/dist-packages/IPython/core/pylabtools.py:151: UserWarning: Glyph 47924 (\\N{HANGUL SYLLABLE MU}) missing from font(s) DejaVu Sans.\n",
            "  fig.canvas.print_figure(bytes_io, **kw)\n",
            "WARNING:matplotlib.font_manager:findfont: Font family 'NanumGothic' not found.\n",
            "/usr/local/lib/python3.11/dist-packages/IPython/core/pylabtools.py:151: UserWarning: Glyph 51068 (\\N{HANGUL SYLLABLE IL}) missing from font(s) DejaVu Sans.\n",
            "  fig.canvas.print_figure(bytes_io, **kw)\n",
            "/usr/local/lib/python3.11/dist-packages/IPython/core/pylabtools.py:151: UserWarning: Glyph 45716 (\\N{HANGUL SYLLABLE NEUN}) missing from font(s) DejaVu Sans.\n",
            "  fig.canvas.print_figure(bytes_io, **kw)\n",
            "WARNING:matplotlib.font_manager:findfont: Font family 'NanumGothic' not found.\n",
            "/usr/local/lib/python3.11/dist-packages/IPython/core/pylabtools.py:151: UserWarning: Glyph 51228 (\\N{HANGUL SYLLABLE JE}) missing from font(s) DejaVu Sans.\n",
            "  fig.canvas.print_figure(bytes_io, **kw)\n",
            "WARNING:matplotlib.font_manager:findfont: Font family 'NanumGothic' not found.\n",
            "/usr/local/lib/python3.11/dist-packages/IPython/core/pylabtools.py:151: UserWarning: Glyph 52380 (\\N{HANGUL SYLLABLE CEON}) missing from font(s) DejaVu Sans.\n",
            "  fig.canvas.print_figure(bytes_io, **kw)\n",
            "/usr/local/lib/python3.11/dist-packages/IPython/core/pylabtools.py:151: UserWarning: Glyph 50504 (\\N{HANGUL SYLLABLE AN}) missing from font(s) DejaVu Sans.\n",
            "  fig.canvas.print_figure(bytes_io, **kw)\n",
            "WARNING:matplotlib.font_manager:findfont: Font family 'NanumGothic' not found.\n",
            "/usr/local/lib/python3.11/dist-packages/IPython/core/pylabtools.py:151: UserWarning: Glyph 44596 (\\N{HANGUL SYLLABLE GIN}) missing from font(s) DejaVu Sans.\n",
            "  fig.canvas.print_figure(bytes_io, **kw)\n",
            "WARNING:matplotlib.font_manager:findfont: Font family 'NanumGothic' not found.\n",
            "/usr/local/lib/python3.11/dist-packages/IPython/core/pylabtools.py:151: UserWarning: Glyph 51201 (\\N{HANGUL SYLLABLE JEOG}) missing from font(s) DejaVu Sans.\n",
            "  fig.canvas.print_figure(bytes_io, **kw)\n",
            "/usr/local/lib/python3.11/dist-packages/IPython/core/pylabtools.py:151: UserWarning: Glyph 55180 (\\N{HANGUL SYLLABLE HIN}) missing from font(s) DejaVu Sans.\n",
            "  fig.canvas.print_figure(bytes_io, **kw)\n",
            "WARNING:matplotlib.font_manager:findfont: Font family 'NanumGothic' not found.\n",
            "/usr/local/lib/python3.11/dist-packages/IPython/core/pylabtools.py:151: UserWarning: Glyph 44228 (\\N{HANGUL SYLLABLE GYE}) missing from font(s) DejaVu Sans.\n",
            "  fig.canvas.print_figure(bytes_io, **kw)\n",
            "/usr/local/lib/python3.11/dist-packages/IPython/core/pylabtools.py:151: UserWarning: Glyph 49888 (\\N{HANGUL SYLLABLE SIN}) missing from font(s) DejaVu Sans.\n",
            "  fig.canvas.print_figure(bytes_io, **kw)\n",
            "WARNING:matplotlib.font_manager:findfont: Font family 'NanumGothic' not found.\n",
            "/usr/local/lib/python3.11/dist-packages/IPython/core/pylabtools.py:151: UserWarning: Glyph 46321 (\\N{HANGUL SYLLABLE DEUNG}) missing from font(s) DejaVu Sans.\n",
            "  fig.canvas.print_figure(bytes_io, **kw)\n",
            "/usr/local/lib/python3.11/dist-packages/IPython/core/pylabtools.py:151: UserWarning: Glyph 47197 (\\N{HANGUL SYLLABLE ROG}) missing from font(s) DejaVu Sans.\n",
            "  fig.canvas.print_figure(bytes_io, **kw)\n",
            "/usr/local/lib/python3.11/dist-packages/IPython/core/pylabtools.py:151: UserWarning: Glyph 51613 (\\N{HANGUL SYLLABLE JEUNG}) missing from font(s) DejaVu Sans.\n",
            "  fig.canvas.print_figure(bytes_io, **kw)\n",
            "WARNING:matplotlib.font_manager:findfont: Font family 'NanumGothic' not found.\n",
            "/usr/local/lib/python3.11/dist-packages/IPython/core/pylabtools.py:151: UserWarning: Glyph 49464 (\\N{HANGUL SYLLABLE SE}) missing from font(s) DejaVu Sans.\n",
            "  fig.canvas.print_figure(bytes_io, **kw)\n",
            "/usr/local/lib/python3.11/dist-packages/IPython/core/pylabtools.py:151: UserWarning: Glyph 47484 (\\N{HANGUL SYLLABLE REUL}) missing from font(s) DejaVu Sans.\n",
            "  fig.canvas.print_figure(bytes_io, **kw)\n",
            "WARNING:matplotlib.font_manager:findfont: Font family 'NanumGothic' not found.\n",
            "/usr/local/lib/python3.11/dist-packages/IPython/core/pylabtools.py:151: UserWarning: Glyph 48120 (\\N{HANGUL SYLLABLE MI}) missing from font(s) DejaVu Sans.\n",
            "  fig.canvas.print_figure(bytes_io, **kw)\n",
            "/usr/local/lib/python3.11/dist-packages/IPython/core/pylabtools.py:151: UserWarning: Glyph 52824 (\\N{HANGUL SYLLABLE CI}) missing from font(s) DejaVu Sans.\n",
            "  fig.canvas.print_figure(bytes_io, **kw)\n",
            "/usr/local/lib/python3.11/dist-packages/IPython/core/pylabtools.py:151: UserWarning: Glyph 44172 (\\N{HANGUL SYLLABLE GE}) missing from font(s) DejaVu Sans.\n",
            "  fig.canvas.print_figure(bytes_io, **kw)\n",
            "WARNING:matplotlib.font_manager:findfont: Font family 'NanumGothic' not found.\n",
            "/usr/local/lib/python3.11/dist-packages/IPython/core/pylabtools.py:151: UserWarning: Glyph 44608 (\\N{HANGUL SYLLABLE GIM}) missing from font(s) DejaVu Sans.\n",
            "  fig.canvas.print_figure(bytes_io, **kw)\n",
            "/usr/local/lib/python3.11/dist-packages/IPython/core/pylabtools.py:151: UserWarning: Glyph 50896 (\\N{HANGUL SYLLABLE WEON}) missing from font(s) DejaVu Sans.\n",
            "  fig.canvas.print_figure(bytes_io, **kw)\n",
            "WARNING:matplotlib.font_manager:findfont: Font family 'NanumGothic' not found.\n",
            "/usr/local/lib/python3.11/dist-packages/IPython/core/pylabtools.py:151: UserWarning: Glyph 45734 (\\N{HANGUL SYLLABLE NEUJ}) missing from font(s) DejaVu Sans.\n",
            "  fig.canvas.print_figure(bytes_io, **kw)\n",
            "/usr/local/lib/python3.11/dist-packages/IPython/core/pylabtools.py:151: UserWarning: Glyph 50612 (\\N{HANGUL SYLLABLE EO}) missing from font(s) DejaVu Sans.\n",
            "  fig.canvas.print_figure(bytes_io, **kw)\n",
            "/usr/local/lib/python3.11/dist-packages/IPython/core/pylabtools.py:151: UserWarning: Glyph 51276 (\\N{HANGUL SYLLABLE JYEOSS}) missing from font(s) DejaVu Sans.\n",
            "  fig.canvas.print_figure(bytes_io, **kw)\n",
            "WARNING:matplotlib.font_manager:findfont: Font family 'NanumGothic' not found.\n",
            "WARNING:matplotlib.font_manager:findfont: Font family 'NanumGothic' not found.\n",
            "WARNING:matplotlib.font_manager:findfont: Font family 'NanumGothic' not found.\n",
            "WARNING:matplotlib.font_manager:findfont: Font family 'NanumGothic' not found.\n",
            "WARNING:matplotlib.font_manager:findfont: Font family 'NanumGothic' not found.\n",
            "WARNING:matplotlib.font_manager:findfont: Font family 'NanumGothic' not found.\n",
            "WARNING:matplotlib.font_manager:findfont: Font family 'NanumGothic' not found.\n",
            "WARNING:matplotlib.font_manager:findfont: Font family 'NanumGothic' not found.\n",
            "WARNING:matplotlib.font_manager:findfont: Font family 'NanumGothic' not found.\n",
            "WARNING:matplotlib.font_manager:findfont: Font family 'NanumGothic' not found.\n",
            "WARNING:matplotlib.font_manager:findfont: Font family 'NanumGothic' not found.\n",
            "WARNING:matplotlib.font_manager:findfont: Font family 'NanumGothic' not found.\n",
            "WARNING:matplotlib.font_manager:findfont: Font family 'NanumGothic' not found.\n",
            "WARNING:matplotlib.font_manager:findfont: Font family 'NanumGothic' not found.\n",
            "WARNING:matplotlib.font_manager:findfont: Font family 'NanumGothic' not found.\n",
            "WARNING:matplotlib.font_manager:findfont: Font family 'NanumGothic' not found.\n",
            "WARNING:matplotlib.font_manager:findfont: Font family 'NanumGothic' not found.\n",
            "WARNING:matplotlib.font_manager:findfont: Font family 'NanumGothic' not found.\n",
            "WARNING:matplotlib.font_manager:findfont: Font family 'NanumGothic' not found.\n",
            "WARNING:matplotlib.font_manager:findfont: Font family 'NanumGothic' not found.\n",
            "WARNING:matplotlib.font_manager:findfont: Font family 'NanumGothic' not found.\n",
            "WARNING:matplotlib.font_manager:findfont: Font family 'NanumGothic' not found.\n",
            "WARNING:matplotlib.font_manager:findfont: Font family 'NanumGothic' not found.\n",
            "WARNING:matplotlib.font_manager:findfont: Font family 'NanumGothic' not found.\n",
            "WARNING:matplotlib.font_manager:findfont: Font family 'NanumGothic' not found.\n",
            "WARNING:matplotlib.font_manager:findfont: Font family 'NanumGothic' not found.\n",
            "WARNING:matplotlib.font_manager:findfont: Font family 'NanumGothic' not found.\n",
            "WARNING:matplotlib.font_manager:findfont: Font family 'NanumGothic' not found.\n",
            "WARNING:matplotlib.font_manager:findfont: Font family 'NanumGothic' not found.\n",
            "WARNING:matplotlib.font_manager:findfont: Font family 'NanumGothic' not found.\n"
          ]
        },
        {
          "output_type": "display_data",
          "data": {
            "text/plain": [
              "<Figure size 1200x500 with 1 Axes>"
            ],
            "image/png": "[encoded data removed]"
          },
          "metadata": {}
        }
      ]
    },
    {
      "cell_type": "code",
      "source": [
        "import matplotlib.pyplot as plt\n",
        "plt.rcParams['font.family'] = 'NanumGothic'  # or 'Malgun Gothic' (Windows) / 'AppleGothic' (Mac)\n",
        "plt.rc(\"font\", family=\"NanumGothic\")\n",
        "plt.rc(\"axes\", unicode_minus=False)\n",
        "\n",
        "# 또는 Colab이라면 아래처럼 설치하고 적용\n",
        "!apt-get -qq install fonts-nanum\n",
        "import matplotlib.font_manager as fm\n",
        "plt.rc('font', family='NanumGothic')\n"
      ],
      "metadata": {
        "colab": {
          "base_uri": "https://localhost:8080/"
        },
        "id": "D30lj0w6o8WY",
        "outputId": "16d55afb-11cc-4fac-860f-7adaa17675f7"
      },
      "execution_count": 31,
      "outputs": [
        {
          "output_type": "stream",
          "name": "stdout",
          "text": [
            "Selecting previously unselected package fonts-nanum.\n",
            "(Reading database ... 126284 files and directories currently installed.)\n",
            "Preparing to unpack .../fonts-nanum_20200506-1_all.deb ...\n",
            "Unpacking fonts-nanum (20200506-1) ...\n",
            "Setting up fonts-nanum (20200506-1) ...\n",
            "Processing triggers for fontconfig (2.13.1-4.2ubuntu5) ...\n"
          ]
        }
      ]
    },
    {
      "cell_type": "code",
      "source": [
        "!apt-get -qq install -y fonts-nanum"
      ],
      "metadata": {
        "id": "bYc85C2hsRLq"
      },
      "execution_count": 35,
      "outputs": []
    },
    {
      "cell_type": "code",
      "source": [
        "import matplotlib.pyplot as plt\n",
        "import matplotlib.font_manager as fm\n",
        "import matplotlib as mpl\n",
        "\n",
        "# 정확한 경로에 있는 ttf 파일로 폰트 등록\n",
        "font_path = '/usr/share/fonts/truetype/nanum/NanumGothic.ttf'\n",
        "fontprop = fm.FontProperties(fname=font_path, size=12)\n",
        "print(fontprop.get_name())  # 폰트 이름 확인용"
      ],
      "metadata": {
        "colab": {
          "base_uri": "https://localhost:8080/"
        },
        "id": "eGO1K7kTskzM",
        "outputId": "700aea95-1cb0-467d-c1ad-a134038507a8"
      },
      "execution_count": 36,
      "outputs": [
        {
          "output_type": "stream",
          "name": "stdout",
          "text": [
            "NanumGothic\n"
          ]
        }
      ]
    },
    {
      "cell_type": "code",
      "source": [
        "# 폰트 이름을 직접 rc에 등록\n",
        "mpl.rcParams['font.family'] = fontprop.get_name()\n",
        "mpl.rcParams['axes.unicode_minus'] = False"
      ],
      "metadata": {
        "id": "Vq2nBzx2snH7"
      },
      "execution_count": 37,
      "outputs": []
    },
    {
      "cell_type": "code",
      "source": [
        "plt.figure()\n",
        "plt.plot([1, 2, 3], [1, 4, 9])\n",
        "plt.title('한글 그래프 테스트')\n",
        "plt.xlabel('가로축')\n",
        "plt.ylabel('세로축')\n",
        "plt.show()"
      ],
      "metadata": {
        "colab": {
          "base_uri": "https://localhost:8080/",
          "height": 1000
        },
        "id": "PF_-MCyFsqR6",
        "outputId": "24bf9712-2fac-4f26-dbe9-1852aa31df7a"
      },
      "execution_count": 38,
      "outputs": [
        {
          "output_type": "stream",
          "name": "stderr",
          "text": [
            "WARNING:matplotlib.font_manager:findfont: Font family 'NanumGothic' not found.\n",
            "WARNING:matplotlib.font_manager:findfont: Font family 'NanumGothic' not found.\n",
            "WARNING:matplotlib.font_manager:findfont: Font family 'NanumGothic' not found.\n",
            "WARNING:matplotlib.font_manager:findfont: Font family 'NanumGothic' not found.\n",
            "WARNING:matplotlib.font_manager:findfont: Font family 'NanumGothic' not found.\n",
            "WARNING:matplotlib.font_manager:findfont: Font family 'NanumGothic' not found.\n",
            "WARNING:matplotlib.font_manager:findfont: Font family 'NanumGothic' not found.\n",
            "WARNING:matplotlib.font_manager:findfont: Font family 'NanumGothic' not found.\n",
            "WARNING:matplotlib.font_manager:findfont: Font family 'NanumGothic' not found.\n",
            "WARNING:matplotlib.font_manager:findfont: Font family 'NanumGothic' not found.\n",
            "WARNING:matplotlib.font_manager:findfont: Font family 'NanumGothic' not found.\n",
            "WARNING:matplotlib.font_manager:findfont: Font family 'NanumGothic' not found.\n",
            "WARNING:matplotlib.font_manager:findfont: Font family 'NanumGothic' not found.\n",
            "/usr/local/lib/python3.11/dist-packages/IPython/core/pylabtools.py:151: UserWarning: Glyph 44536 (\\N{HANGUL SYLLABLE GEU}) missing from font(s) DejaVu Sans.\n",
            "  fig.canvas.print_figure(bytes_io, **kw)\n",
            "/usr/local/lib/python3.11/dist-packages/IPython/core/pylabtools.py:151: UserWarning: Glyph 47000 (\\N{HANGUL SYLLABLE RAE}) missing from font(s) DejaVu Sans.\n",
            "  fig.canvas.print_figure(bytes_io, **kw)\n",
            "/usr/local/lib/python3.11/dist-packages/IPython/core/pylabtools.py:151: UserWarning: Glyph 54532 (\\N{HANGUL SYLLABLE PEU}) missing from font(s) DejaVu Sans.\n",
            "  fig.canvas.print_figure(bytes_io, **kw)\n",
            "WARNING:matplotlib.font_manager:findfont: Font family 'NanumGothic' not found.\n",
            "WARNING:matplotlib.font_manager:findfont: Font family 'NanumGothic' not found.\n",
            "WARNING:matplotlib.font_manager:findfont: Font family 'NanumGothic' not found.\n",
            "WARNING:matplotlib.font_manager:findfont: Font family 'NanumGothic' not found.\n",
            "WARNING:matplotlib.font_manager:findfont: Font family 'NanumGothic' not found.\n",
            "WARNING:matplotlib.font_manager:findfont: Font family 'NanumGothic' not found.\n",
            "WARNING:matplotlib.font_manager:findfont: Font family 'NanumGothic' not found.\n",
            "WARNING:matplotlib.font_manager:findfont: Font family 'NanumGothic' not found.\n",
            "WARNING:matplotlib.font_manager:findfont: Font family 'NanumGothic' not found.\n",
            "WARNING:matplotlib.font_manager:findfont: Font family 'NanumGothic' not found.\n",
            "WARNING:matplotlib.font_manager:findfont: Font family 'NanumGothic' not found.\n",
            "WARNING:matplotlib.font_manager:findfont: Font family 'NanumGothic' not found.\n",
            "WARNING:matplotlib.font_manager:findfont: Font family 'NanumGothic' not found.\n",
            "WARNING:matplotlib.font_manager:findfont: Font family 'NanumGothic' not found.\n",
            "WARNING:matplotlib.font_manager:findfont: Font family 'NanumGothic' not found.\n",
            "WARNING:matplotlib.font_manager:findfont: Font family 'NanumGothic' not found.\n",
            "WARNING:matplotlib.font_manager:findfont: Font family 'NanumGothic' not found.\n",
            "WARNING:matplotlib.font_manager:findfont: Font family 'NanumGothic' not found.\n",
            "WARNING:matplotlib.font_manager:findfont: Font family 'NanumGothic' not found.\n",
            "WARNING:matplotlib.font_manager:findfont: Font family 'NanumGothic' not found.\n",
            "WARNING:matplotlib.font_manager:findfont: Font family 'NanumGothic' not found.\n",
            "WARNING:matplotlib.font_manager:findfont: Font family 'NanumGothic' not found.\n",
            "WARNING:matplotlib.font_manager:findfont: Font family 'NanumGothic' not found.\n",
            "WARNING:matplotlib.font_manager:findfont: Font family 'NanumGothic' not found.\n",
            "WARNING:matplotlib.font_manager:findfont: Font family 'NanumGothic' not found.\n",
            "WARNING:matplotlib.font_manager:findfont: Font family 'NanumGothic' not found.\n",
            "WARNING:matplotlib.font_manager:findfont: Font family 'NanumGothic' not found.\n",
            "WARNING:matplotlib.font_manager:findfont: Font family 'NanumGothic' not found.\n",
            "WARNING:matplotlib.font_manager:findfont: Font family 'NanumGothic' not found.\n",
            "WARNING:matplotlib.font_manager:findfont: Font family 'NanumGothic' not found.\n",
            "WARNING:matplotlib.font_manager:findfont: Font family 'NanumGothic' not found.\n",
            "WARNING:matplotlib.font_manager:findfont: Font family 'NanumGothic' not found.\n",
            "WARNING:matplotlib.font_manager:findfont: Font family 'NanumGothic' not found.\n",
            "WARNING:matplotlib.font_manager:findfont: Font family 'NanumGothic' not found.\n",
            "WARNING:matplotlib.font_manager:findfont: Font family 'NanumGothic' not found.\n",
            "WARNING:matplotlib.font_manager:findfont: Font family 'NanumGothic' not found.\n",
            "WARNING:matplotlib.font_manager:findfont: Font family 'NanumGothic' not found.\n",
            "WARNING:matplotlib.font_manager:findfont: Font family 'NanumGothic' not found.\n",
            "WARNING:matplotlib.font_manager:findfont: Font family 'NanumGothic' not found.\n",
            "WARNING:matplotlib.font_manager:findfont: Font family 'NanumGothic' not found.\n",
            "WARNING:matplotlib.font_manager:findfont: Font family 'NanumGothic' not found.\n",
            "WARNING:matplotlib.font_manager:findfont: Font family 'NanumGothic' not found.\n",
            "WARNING:matplotlib.font_manager:findfont: Font family 'NanumGothic' not found.\n",
            "WARNING:matplotlib.font_manager:findfont: Font family 'NanumGothic' not found.\n",
            "WARNING:matplotlib.font_manager:findfont: Font family 'NanumGothic' not found.\n",
            "WARNING:matplotlib.font_manager:findfont: Font family 'NanumGothic' not found.\n",
            "WARNING:matplotlib.font_manager:findfont: Font family 'NanumGothic' not found.\n",
            "WARNING:matplotlib.font_manager:findfont: Font family 'NanumGothic' not found.\n",
            "WARNING:matplotlib.font_manager:findfont: Font family 'NanumGothic' not found.\n",
            "WARNING:matplotlib.font_manager:findfont: Font family 'NanumGothic' not found.\n",
            "WARNING:matplotlib.font_manager:findfont: Font family 'NanumGothic' not found.\n",
            "WARNING:matplotlib.font_manager:findfont: Font family 'NanumGothic' not found.\n",
            "WARNING:matplotlib.font_manager:findfont: Font family 'NanumGothic' not found.\n",
            "WARNING:matplotlib.font_manager:findfont: Font family 'NanumGothic' not found.\n"
          ]
        },
        {
          "output_type": "display_data",
          "data": {
            "text/plain": [
              "<Figure size 640x480 with 1 Axes>"
            ],
            "image/png": "[encoded data removed]"
          },
          "metadata": {}
        }
      ]
    },
    {
      "cell_type": "code",
      "source": [
        "# 1. 나눔고딕 설치\n",
        "!apt-get -qq install -y fonts-nanum\n",
        "\n",
        "# 2. 런타임 재시작 후 아래 코드 실행\n",
        "import matplotlib.pyplot as plt\n",
        "import matplotlib.font_manager as fm\n",
        "import matplotlib as mpl\n",
        "\n",
        "# 3. 설치된 나눔고딕 경로 확인 및 적용\n",
        "font_path = '/usr/share/fonts/truetype/nanum/NanumGothic.ttf'\n",
        "font_name = fm.FontProperties(fname=font_path).get_name()\n",
        "plt.rc('font', family=font_name)\n",
        "\n",
        "# 4. 마이너스 깨짐 방지\n",
        "mpl.rcParams['axes.unicode_minus'] = False\n",
        "\n",
        "# 5. 테스트 그래프\n",
        "plt.figure()\n",
        "plt.plot([1, 2, 3], [1, 4, 9])\n",
        "plt.title('한글 그래프 테스트')\n",
        "plt.xlabel('가로축')\n",
        "plt.ylabel('세로축')\n",
        "plt.show()\n"
      ],
      "metadata": {
        "colab": {
          "base_uri": "https://localhost:8080/",
          "height": 1000
        },
        "id": "de_HTCnHssSb",
        "outputId": "541f6745-9621-4b1b-9e16-4c6ce002238d"
      },
      "execution_count": 39,
      "outputs": [
        {
          "output_type": "stream",
          "name": "stderr",
          "text": [
            "WARNING:matplotlib.font_manager:findfont: Font family 'NanumGothic' not found.\n",
            "WARNING:matplotlib.font_manager:findfont: Font family 'NanumGothic' not found.\n",
            "WARNING:matplotlib.font_manager:findfont: Font family 'NanumGothic' not found.\n",
            "WARNING:matplotlib.font_manager:findfont: Font family 'NanumGothic' not found.\n",
            "WARNING:matplotlib.font_manager:findfont: Font family 'NanumGothic' not found.\n",
            "WARNING:matplotlib.font_manager:findfont: Font family 'NanumGothic' not found.\n",
            "WARNING:matplotlib.font_manager:findfont: Font family 'NanumGothic' not found.\n",
            "WARNING:matplotlib.font_manager:findfont: Font family 'NanumGothic' not found.\n",
            "WARNING:matplotlib.font_manager:findfont: Font family 'NanumGothic' not found.\n",
            "WARNING:matplotlib.font_manager:findfont: Font family 'NanumGothic' not found.\n",
            "WARNING:matplotlib.font_manager:findfont: Font family 'NanumGothic' not found.\n",
            "WARNING:matplotlib.font_manager:findfont: Font family 'NanumGothic' not found.\n",
            "WARNING:matplotlib.font_manager:findfont: Font family 'NanumGothic' not found.\n",
            "WARNING:matplotlib.font_manager:findfont: Font family 'NanumGothic' not found.\n",
            "WARNING:matplotlib.font_manager:findfont: Font family 'NanumGothic' not found.\n",
            "WARNING:matplotlib.font_manager:findfont: Font family 'NanumGothic' not found.\n",
            "WARNING:matplotlib.font_manager:findfont: Font family 'NanumGothic' not found.\n",
            "WARNING:matplotlib.font_manager:findfont: Font family 'NanumGothic' not found.\n",
            "WARNING:matplotlib.font_manager:findfont: Font family 'NanumGothic' not found.\n",
            "WARNING:matplotlib.font_manager:findfont: Font family 'NanumGothic' not found.\n",
            "WARNING:matplotlib.font_manager:findfont: Font family 'NanumGothic' not found.\n",
            "WARNING:matplotlib.font_manager:findfont: Font family 'NanumGothic' not found.\n",
            "WARNING:matplotlib.font_manager:findfont: Font family 'NanumGothic' not found.\n",
            "WARNING:matplotlib.font_manager:findfont: Font family 'NanumGothic' not found.\n",
            "WARNING:matplotlib.font_manager:findfont: Font family 'NanumGothic' not found.\n",
            "WARNING:matplotlib.font_manager:findfont: Font family 'NanumGothic' not found.\n",
            "WARNING:matplotlib.font_manager:findfont: Font family 'NanumGothic' not found.\n",
            "WARNING:matplotlib.font_manager:findfont: Font family 'NanumGothic' not found.\n",
            "WARNING:matplotlib.font_manager:findfont: Font family 'NanumGothic' not found.\n",
            "WARNING:matplotlib.font_manager:findfont: Font family 'NanumGothic' not found.\n",
            "WARNING:matplotlib.font_manager:findfont: Font family 'NanumGothic' not found.\n",
            "WARNING:matplotlib.font_manager:findfont: Font family 'NanumGothic' not found.\n",
            "WARNING:matplotlib.font_manager:findfont: Font family 'NanumGothic' not found.\n",
            "WARNING:matplotlib.font_manager:findfont: Font family 'NanumGothic' not found.\n",
            "WARNING:matplotlib.font_manager:findfont: Font family 'NanumGothic' not found.\n",
            "WARNING:matplotlib.font_manager:findfont: Font family 'NanumGothic' not found.\n",
            "WARNING:matplotlib.font_manager:findfont: Font family 'NanumGothic' not found.\n",
            "WARNING:matplotlib.font_manager:findfont: Font family 'NanumGothic' not found.\n",
            "WARNING:matplotlib.font_manager:findfont: Font family 'NanumGothic' not found.\n",
            "WARNING:matplotlib.font_manager:findfont: Font family 'NanumGothic' not found.\n",
            "WARNING:matplotlib.font_manager:findfont: Font family 'NanumGothic' not found.\n",
            "WARNING:matplotlib.font_manager:findfont: Font family 'NanumGothic' not found.\n",
            "WARNING:matplotlib.font_manager:findfont: Font family 'NanumGothic' not found.\n",
            "WARNING:matplotlib.font_manager:findfont: Font family 'NanumGothic' not found.\n",
            "WARNING:matplotlib.font_manager:findfont: Font family 'NanumGothic' not found.\n",
            "WARNING:matplotlib.font_manager:findfont: Font family 'NanumGothic' not found.\n",
            "WARNING:matplotlib.font_manager:findfont: Font family 'NanumGothic' not found.\n",
            "WARNING:matplotlib.font_manager:findfont: Font family 'NanumGothic' not found.\n",
            "WARNING:matplotlib.font_manager:findfont: Font family 'NanumGothic' not found.\n",
            "WARNING:matplotlib.font_manager:findfont: Font family 'NanumGothic' not found.\n",
            "WARNING:matplotlib.font_manager:findfont: Font family 'NanumGothic' not found.\n",
            "WARNING:matplotlib.font_manager:findfont: Font family 'NanumGothic' not found.\n",
            "WARNING:matplotlib.font_manager:findfont: Font family 'NanumGothic' not found.\n",
            "WARNING:matplotlib.font_manager:findfont: Font family 'NanumGothic' not found.\n",
            "WARNING:matplotlib.font_manager:findfont: Font family 'NanumGothic' not found.\n",
            "WARNING:matplotlib.font_manager:findfont: Font family 'NanumGothic' not found.\n",
            "WARNING:matplotlib.font_manager:findfont: Font family 'NanumGothic' not found.\n",
            "WARNING:matplotlib.font_manager:findfont: Font family 'NanumGothic' not found.\n",
            "WARNING:matplotlib.font_manager:findfont: Font family 'NanumGothic' not found.\n",
            "WARNING:matplotlib.font_manager:findfont: Font family 'NanumGothic' not found.\n",
            "WARNING:matplotlib.font_manager:findfont: Font family 'NanumGothic' not found.\n",
            "WARNING:matplotlib.font_manager:findfont: Font family 'NanumGothic' not found.\n",
            "WARNING:matplotlib.font_manager:findfont: Font family 'NanumGothic' not found.\n",
            "WARNING:matplotlib.font_manager:findfont: Font family 'NanumGothic' not found.\n",
            "WARNING:matplotlib.font_manager:findfont: Font family 'NanumGothic' not found.\n",
            "WARNING:matplotlib.font_manager:findfont: Font family 'NanumGothic' not found.\n",
            "WARNING:matplotlib.font_manager:findfont: Font family 'NanumGothic' not found.\n"
          ]
        },
        {
          "output_type": "display_data",
          "data": {
            "text/plain": [
              "<Figure size 640x480 with 1 Axes>"
            ],
            "image/png": "[encoded data removed]"
          },
          "metadata": {}
        }
      ]
    },
    {
      "cell_type": "code",
      "source": [],
      "metadata": {
        "id": "oyuxFNwAtQ4E"
      },
      "execution_count": null,
      "outputs": []
    }
  ]
}